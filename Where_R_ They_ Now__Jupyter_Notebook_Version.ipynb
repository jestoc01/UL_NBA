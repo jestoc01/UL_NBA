{
 "cells": [
  {
   "cell_type": "markdown",
   "metadata": {},
   "source": [
    "## University of Louisville Basketball Players and the NBA  (see where_r_they_now11.py)"
   ]
  },
  {
   "cell_type": "code",
   "execution_count": null,
   "metadata": {},
   "outputs": [],
   "source": [
    "import json\n",
    "import pandas as pd"
   ]
  },
  {
   "cell_type": "markdown",
   "metadata": {},
   "source": [
    "### Function Definitions:"
   ]
  },
  {
   "cell_type": "markdown",
   "metadata": {},
   "source": [
    "#### Function to open JSON file with error checking and load contents into dictionary"
   ]
  },
  {
   "cell_type": "code",
   "execution_count": null,
   "metadata": {},
   "outputs": [],
   "source": [
    "def load_current_players_dict(filename):\n",
    "\t\ttry:\n",
    "\t\t\twith open(filename) as f:\n",
    "\t\t\t\tcurrent_ul_nba_dict = json.load(f)\n",
    "\t\texcept FileNotFoundError:\n",
    "\t\t\tprint(f\"Sorry, the file {filename} does not exist.\")\n",
    "\t\treturn current_ul_nba_dict"
   ]
  },
  {
   "cell_type": "markdown",
   "metadata": {},
   "source": [
    "#### Function to form  a key-tracking list (current_ul_nba_list) from the dictionary (current_ul_nba_dict)"
   ]
  },
  {
   "cell_type": "code",
   "execution_count": null,
   "metadata": {},
   "outputs": [],
   "source": [
    "def load_current_players_list():\n",
    "\t\tcurrent_ul_nba_list = []\n",
    "\t\tfor v,k in current_ul_nba_dict.items():\n",
    "\t\t\tcurrent_ul_nba_list.append(v)\n",
    "\t\treturn current_ul_nba_list"
   ]
  },
  {
   "cell_type": "markdown",
   "metadata": {},
   "source": [
    "#### Function to print indexed players from dictionary (current_ul_nba_dict) for selection by user "
   ]
  },
  {
   "cell_type": "code",
   "execution_count": 4,
   "metadata": {},
   "outputs": [],
   "source": [
    "def print_current_players():\n",
    "\t\tindex = 1\n",
    "\t\tprint()\n",
    "\t\tfor v,k in current_ul_nba_dict.items():\n",
    "\t\t\tprint(index,':',v)\n",
    "\t\t\tindex += 1\n"
   ]
  },
  {
   "cell_type": "markdown",
   "metadata": {},
   "source": [
    "#### Function to sort all UL players ever to play in NBA by field goal percentage"
   ]
  },
  {
   "cell_type": "code",
   "execution_count": 5,
   "metadata": {},
   "outputs": [],
   "source": [
    "def order_alltime_players_dataframe(filename):\n",
    "\tul_nba_players=pd.read_csv(filename)\n",
    "\tcurrent_ul_nba_fgp_list = []\n",
    "\tFGP=ul_nba_players.sort_values(by=['FG%'], ascending=[False])\n",
    "\tFGP2=FGP.reset_index(drop=True)\n",
    "\tfor i in current_ul_nba_list:\n",
    "\t\tfield_goal_rank = FGP2[FGP2['Player']==i].index[0]\n",
    "\t\tcurrent_ul_nba_fgp_list.append(field_goal_rank + 1)\n",
    "\treturn current_ul_nba_fgp_list"
   ]
  },
  {
   "cell_type": "markdown",
   "metadata": {},
   "source": [
    "#### Open file with error checking and load contents into a dictionary of former University of Louisville players CURRENTLY in the NBA matched with their team and updated from file ul_nba_current.json."
   ]
  },
  {
   "cell_type": "code",
   "execution_count": 6,
   "metadata": {},
   "outputs": [],
   "source": [
    "current_ul_nba_dict = load_current_players_dict('ul_nba_current.json')"
   ]
  },
  {
   "cell_type": "markdown",
   "metadata": {},
   "source": [
    " #### Here is a dictionary printout utilizing a key-tracking list "
   ]
  },
  {
   "cell_type": "code",
   "execution_count": 7,
   "metadata": {},
   "outputs": [],
   "source": [
    "current_ul_nba_list = load_current_players_list()"
   ]
  },
  {
   "cell_type": "markdown",
   "metadata": {},
   "source": [
    "#### Here are all the UofL players who ever played in the NBA ordered by field goal percentage"
   ]
  },
  {
   "cell_type": "code",
   "execution_count": 8,
   "metadata": {},
   "outputs": [],
   "source": [
    "current_ul_nba_fgp_list=order_alltime_players_dataframe('ul_nba_players.csv')"
   ]
  },
  {
   "cell_type": "markdown",
   "metadata": {},
   "source": [
    "#### Present the Welcome Screen to the user"
   ]
  },
  {
   "cell_type": "code",
   "execution_count": 9,
   "metadata": {},
   "outputs": [
    {
     "name": "stdout",
     "output_type": "stream",
     "text": [
      "\n",
      "---------------------------------------------------------------------------------------------------------------\n",
      "\n",
      "Welcome to 'Where R They Now'\n",
      "---The program to help you find and follow University of Louisville basketball players currently in the NBA\n",
      "\n",
      "The former UofL players currently playing in the NBA are :\n",
      "\n"
     ]
    }
   ],
   "source": [
    "print('\\n---------------------------------------------------------------------------------------------------------------')\n",
    "print(\"\\nWelcome to 'Where R They Now'\")\n",
    "print(\"---The program to help you find and follow University of Louisville basketball players currently in the NBA\")\n",
    "print(\"\\nThe former UofL players currently playing in the NBA are :\\n\")\n"
   ]
  },
  {
   "cell_type": "markdown",
   "metadata": {},
   "source": [
    "#### Present the menu in a whle loop and respond to user selections "
   ]
  },
  {
   "cell_type": "code",
   "execution_count": null,
   "metadata": {},
   "outputs": [
    {
     "name": "stdout",
     "output_type": "stream",
     "text": [
      "\n",
      "1 : Gorgui Dieng\n",
      "2 : Montrezl Harrell\n",
      "3 : Damion Lee\n",
      "4 : Donovan Mitchell\n",
      "5 : Jordan Nwora\n",
      "6 : Terry Rozier\n",
      "\n",
      "\n",
      "Please choose #1-6 to find out more about former UofL players currently in the NBA  or press \"q\" to quit:  \n",
      "\n",
      "\n",
      "Please enter only one of the following integers\n",
      "\n",
      "\n",
      "\n",
      "1 : Gorgui Dieng\n",
      "2 : Montrezl Harrell\n",
      "3 : Damion Lee\n",
      "4 : Donovan Mitchell\n",
      "5 : Jordan Nwora\n",
      "6 : Terry Rozier\n",
      "\n",
      "\n",
      "Please choose #1-6 to find out more about former UofL players currently in the NBA  or press \"q\" to quit:  \n",
      "\n",
      "\n",
      "Please enter only one of the following integers\n",
      "\n",
      "\n",
      "\n",
      "1 : Gorgui Dieng\n",
      "2 : Montrezl Harrell\n",
      "3 : Damion Lee\n",
      "4 : Donovan Mitchell\n",
      "5 : Jordan Nwora\n",
      "6 : Terry Rozier\n",
      "\n",
      "\n",
      "Please choose #1-6 to find out more about former UofL players currently in the NBA  or press \"q\" to quit:  \n",
      "\n",
      "\n",
      "Please enter only one of the following integers\n",
      "\n",
      "\n",
      "\n",
      "1 : Gorgui Dieng\n",
      "2 : Montrezl Harrell\n",
      "3 : Damion Lee\n",
      "4 : Donovan Mitchell\n",
      "5 : Jordan Nwora\n",
      "6 : Terry Rozier\n",
      "\n",
      "\n",
      "Please choose #1-6 to find out more about former UofL players currently in the NBA  or press \"q\" to quit:  \n",
      "\n",
      "\n",
      "Please enter only one of the following integers\n",
      "\n",
      "\n",
      "\n",
      "1 : Gorgui Dieng\n",
      "2 : Montrezl Harrell\n",
      "3 : Damion Lee\n",
      "4 : Donovan Mitchell\n",
      "5 : Jordan Nwora\n",
      "6 : Terry Rozier\n",
      "\n",
      "\n",
      "Please choose #1-6 to find out more about former UofL players currently in the NBA  or press \"q\" to quit:  \n",
      "\n",
      "\n",
      "Please enter only one of the following integers\n",
      "\n",
      "\n",
      "\n",
      "1 : Gorgui Dieng\n",
      "2 : Montrezl Harrell\n",
      "3 : Damion Lee\n",
      "4 : Donovan Mitchell\n",
      "5 : Jordan Nwora\n",
      "6 : Terry Rozier\n",
      "\n",
      "\n",
      "Please choose #1-6 to find out more about former UofL players currently in the NBA  or press \"q\" to quit:  \n",
      "\n",
      "\n",
      "Please enter only one of the following integers\n",
      "\n",
      "\n",
      "\n",
      "1 : Gorgui Dieng\n",
      "2 : Montrezl Harrell\n",
      "3 : Damion Lee\n",
      "4 : Donovan Mitchell\n",
      "5 : Jordan Nwora\n",
      "6 : Terry Rozier\n",
      "\n",
      "\n",
      "Please choose #1-6 to find out more about former UofL players currently in the NBA  or press \"q\" to quit:  \n",
      "\n",
      "\n",
      "Please enter only one of the following integers\n",
      "\n",
      "\n",
      "\n",
      "1 : Gorgui Dieng\n",
      "2 : Montrezl Harrell\n",
      "3 : Damion Lee\n",
      "4 : Donovan Mitchell\n",
      "5 : Jordan Nwora\n",
      "6 : Terry Rozier\n",
      "\n",
      "\n",
      "Please choose #1-6 to find out more about former UofL players currently in the NBA  or press \"q\" to quit:  \n",
      "\n",
      "\n",
      "Please enter only one of the following integers\n",
      "\n",
      "\n",
      "\n",
      "1 : Gorgui Dieng\n",
      "2 : Montrezl Harrell\n",
      "3 : Damion Lee\n",
      "4 : Donovan Mitchell\n",
      "5 : Jordan Nwora\n",
      "6 : Terry Rozier\n"
     ]
    }
   ],
   "source": [
    "while True:\n",
    "\tplayer_choice = ''\n",
    "# Prints from dictionary imported from updatable file\n",
    "\tprint_current_players()\n",
    "\ttry:\n",
    "\t\tplayer_choice = input('\\n\\nPlease choose #1-6 to find out more about former UofL players currently in the NBA  or press \"q\" to quit:  ')\n",
    "\t\tif player_choice.lower() == 'q':\n",
    "\t\t\tprint('\\nHave a nice day!')\n",
    "\t\t\tbreak\n",
    "\t\telif int(player_choice) > 0 and (int(player_choice) <= len(current_ul_nba_list)):\n",
    "\t\t\tprint(\"\\n\\n\", current_ul_nba_list[int(player_choice)-1], \"plays for the\", current_ul_nba_dict.get(current_ul_nba_list[int(player_choice) -1], \"\\n\\n\"))\n",
    "\t\t\tlist_item = int(player_choice)-1\n",
    "\t\t\tprint(\"\\n He ranks #\", current_ul_nba_fgp_list[list_item], \" in field goal percentage among all UofL players who ever played in the NBA.\")\n",
    "\t\t\t\n",
    "\t\telif int(player_choice) <= 0:\n",
    "\t\t\tprint(\"\\n\\nUofL's not that bad!\")\n",
    "\t\telif int(player_choice) > len(current_ul_nba_list):\n",
    "\t\t\tprint(\"\\n\\nUofL's good, but they don't have that many players in the NBA!\")\n",
    "\texcept ValueError:\n",
    "\t\tprint(\"\\n\\nPlease enter only one of the following integers\\n\\n\")\n",
    "\n",
    "\t\n"
   ]
  },
  {
   "cell_type": "code",
   "execution_count": null,
   "metadata": {},
   "outputs": [],
   "source": []
  }
 ],
 "metadata": {
  "kernelspec": {
   "display_name": "Python 3",
   "language": "python",
   "name": "python3"
  },
  "language_info": {
   "codemirror_mode": {
    "name": "ipython",
    "version": 3
   },
   "file_extension": ".py",
   "mimetype": "text/x-python",
   "name": "python",
   "nbconvert_exporter": "python",
   "pygments_lexer": "ipython3",
   "version": "3.8.5"
  }
 },
 "nbformat": 4,
 "nbformat_minor": 4
}
