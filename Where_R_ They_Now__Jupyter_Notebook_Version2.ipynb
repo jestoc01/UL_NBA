{
 "cells": [
  {
   "cell_type": "markdown",
   "metadata": {},
   "source": [
    "## University of Louisville Basketball Players and the NBA  (see where_r_they_now11.py)"
   ]
  },
  {
   "cell_type": "code",
   "execution_count": 1,
   "metadata": {},
   "outputs": [],
   "source": [
    "import json\n",
    "import pandas as pd\n",
    "import numpy as np\n",
    "import seaborn as sns\n",
    "import matplotlib.pyplot as plt\n",
    "%matplotlib inline"
   ]
  },
  {
   "cell_type": "markdown",
   "metadata": {},
   "source": [
    "### Function Definitions:"
   ]
  },
  {
   "cell_type": "markdown",
   "metadata": {},
   "source": [
    "#### Function to open JSON file with error checking and load contents into dictionary"
   ]
  },
  {
   "cell_type": "code",
   "execution_count": 2,
   "metadata": {},
   "outputs": [],
   "source": [
    "def load_current_players_dict(filename):\n",
    "\t\ttry:\n",
    "\t\t\twith open(filename) as f:\n",
    "\t\t\t\tcurrent_ul_nba_dict = json.load(f)\n",
    "\t\texcept FileNotFoundError:\n",
    "\t\t\tprint(f\"Sorry, the file {filename} does not exist.\")\n",
    "\t\treturn current_ul_nba_dict"
   ]
  },
  {
   "cell_type": "markdown",
   "metadata": {},
   "source": [
    "#### Function to form  a key-tracking list (current_ul_nba_list) from the dictionary (current_ul_nba_dict)"
   ]
  },
  {
   "cell_type": "code",
   "execution_count": 3,
   "metadata": {},
   "outputs": [],
   "source": [
    "def load_current_players_list():\n",
    "\t\tcurrent_ul_nba_list = []\n",
    "\t\tfor v,k in current_ul_nba_dict.items():\n",
    "\t\t\tcurrent_ul_nba_list.append(v)\n",
    "\t\treturn current_ul_nba_list"
   ]
  },
  {
   "cell_type": "markdown",
   "metadata": {},
   "source": [
    "#### Function to print indexed players from dictionary (current_ul_nba_dict) for selection by user "
   ]
  },
  {
   "cell_type": "code",
   "execution_count": 4,
   "metadata": {},
   "outputs": [],
   "source": [
    "def print_current_players():\n",
    "\t\tindex = 1\n",
    "\t\tprint()\n",
    "\t\tfor v,k in current_ul_nba_dict.items():\n",
    "\t\t\tprint(index,':',v)\n",
    "\t\t\tindex += 1\n"
   ]
  },
  {
   "cell_type": "markdown",
   "metadata": {},
   "source": [
    "#### Function to sort all UL players ever to play in NBA by field goal percentage"
   ]
  },
  {
   "cell_type": "code",
   "execution_count": 5,
   "metadata": {},
   "outputs": [],
   "source": [
    "def order_alltime_players_dataframe(filename):\n",
    "\tul_nba_players=pd.read_csv(filename)\n",
    "\tcurrent_ul_nba_fgp_list = []\n",
    "\tFGP=ul_nba_players.sort_values(by=['FG%'], ascending=[False])\n",
    "\tFGP2=FGP.reset_index(drop=True)\n",
    "\tfor i in current_ul_nba_list:\n",
    "\t\tfield_goal_rank = FGP2[FGP2['Player']==i].index[0]\n",
    "\t\tcurrent_ul_nba_fgp_list.append(field_goal_rank + 1)\n",
    "\treturn current_ul_nba_fgp_list"
   ]
  },
  {
   "cell_type": "markdown",
   "metadata": {},
   "source": [
    "#### Open file with error checking and load contents into a dictionary of former University of Louisville players CURRENTLY in the NBA matched with their team and updated from file ul_nba_current.json."
   ]
  },
  {
   "cell_type": "code",
   "execution_count": 6,
   "metadata": {},
   "outputs": [],
   "source": [
    "current_ul_nba_dict = load_current_players_dict('ul_nba_current.json')"
   ]
  },
  {
   "cell_type": "markdown",
   "metadata": {},
   "source": [
    " #### Here is a dictionary printout utilizing a key-tracking list "
   ]
  },
  {
   "cell_type": "code",
   "execution_count": 7,
   "metadata": {},
   "outputs": [],
   "source": [
    "current_ul_nba_list = load_current_players_list()"
   ]
  },
  {
   "cell_type": "markdown",
   "metadata": {},
   "source": [
    "#### Here are all the UofL players who ever played in the NBA ordered by field goal percentage"
   ]
  },
  {
   "cell_type": "code",
   "execution_count": 8,
   "metadata": {},
   "outputs": [],
   "source": [
    "current_ul_nba_fgp_list=order_alltime_players_dataframe('ul_nba_players.csv')"
   ]
  },
  {
   "cell_type": "markdown",
   "metadata": {},
   "source": [
    "#### Present the Welcome Screen to the user"
   ]
  },
  {
   "cell_type": "code",
   "execution_count": 9,
   "metadata": {},
   "outputs": [
    {
     "name": "stdout",
     "output_type": "stream",
     "text": [
      "\n",
      "---------------------------------------------------------------------------------------------------------------\n",
      "\n",
      "Welcome to 'Where R They Now'\n",
      "---The program to help you find and follow University of Louisville basketball players currently in the NBA\n",
      "\n",
      "The former UofL players currently playing in the NBA are :\n",
      "\n"
     ]
    }
   ],
   "source": [
    "print('\\n---------------------------------------------------------------------------------------------------------------')\n",
    "print(\"\\nWelcome to 'Where R They Now'\")\n",
    "print(\"---The program to help you find and follow University of Louisville basketball players currently in the NBA\")\n",
    "print(\"\\nThe former UofL players currently playing in the NBA are :\\n\")\n"
   ]
  },
  {
   "cell_type": "markdown",
   "metadata": {},
   "source": [
    "#### Present the menu in a whle loop and respond to user selections "
   ]
  },
  {
   "cell_type": "code",
   "execution_count": 11,
   "metadata": {},
   "outputs": [
    {
     "name": "stdout",
     "output_type": "stream",
     "text": [
      "\n",
      "1 : Gorgui Dieng\n",
      "2 : Montrezl Harrell\n",
      "3 : Damion Lee\n",
      "4 : Donovan Mitchell\n",
      "5 : Jordan Nwora\n",
      "6 : Terry Rozier\n",
      "\n",
      "\n",
      "Please choose #1-6 to find out more about former UofL players currently in the NBA  or press \"q\" to quit:  \n",
      "\n",
      "\n",
      "Please enter only one of the following integers\n",
      "\n",
      "\n",
      "\n",
      "1 : Gorgui Dieng\n",
      "2 : Montrezl Harrell\n",
      "3 : Damion Lee\n",
      "4 : Donovan Mitchell\n",
      "5 : Jordan Nwora\n",
      "6 : Terry Rozier\n",
      "\n",
      "\n",
      "Please choose #1-6 to find out more about former UofL players currently in the NBA  or press \"q\" to quit:  \n",
      "\n",
      "\n",
      "Please enter only one of the following integers\n",
      "\n",
      "\n",
      "\n",
      "1 : Gorgui Dieng\n",
      "2 : Montrezl Harrell\n",
      "3 : Damion Lee\n",
      "4 : Donovan Mitchell\n",
      "5 : Jordan Nwora\n",
      "6 : Terry Rozier\n",
      "\n",
      "\n",
      "Please choose #1-6 to find out more about former UofL players currently in the NBA  or press \"q\" to quit:  \n",
      "\n",
      "\n",
      "Please enter only one of the following integers\n",
      "\n",
      "\n",
      "\n",
      "1 : Gorgui Dieng\n",
      "2 : Montrezl Harrell\n",
      "3 : Damion Lee\n",
      "4 : Donovan Mitchell\n",
      "5 : Jordan Nwora\n",
      "6 : Terry Rozier\n",
      "\n",
      "\n",
      "Please choose #1-6 to find out more about former UofL players currently in the NBA  or press \"q\" to quit:  \n",
      "\n",
      "\n",
      "Please enter only one of the following integers\n",
      "\n",
      "\n",
      "\n",
      "1 : Gorgui Dieng\n",
      "2 : Montrezl Harrell\n",
      "3 : Damion Lee\n",
      "4 : Donovan Mitchell\n",
      "5 : Jordan Nwora\n",
      "6 : Terry Rozier\n",
      "\n",
      "\n",
      "Please choose #1-6 to find out more about former UofL players currently in the NBA  or press \"q\" to quit:  q\n",
      "\n",
      "Have a nice day!\n"
     ]
    }
   ],
   "source": [
    "while True:\n",
    "\tplayer_choice = ''\n",
    "# Prints from dictionary imported from updatable file\n",
    "\tprint_current_players()\n",
    "\ttry:\n",
    "\t\tplayer_choice = input('\\n\\nPlease choose #1-6 to find out more about former UofL players currently in the NBA  or press \"q\" to quit:  ')\n",
    "\t\tif player_choice.lower() == 'q':\n",
    "\t\t\tprint('\\nHave a nice day!')\n",
    "\t\t\tbreak\n",
    "\t\telif int(player_choice) > 0 and (int(player_choice) <= len(current_ul_nba_list)):\n",
    "\t\t\tprint(\"\\n\\n\", current_ul_nba_list[int(player_choice)-1], \"plays for the\", current_ul_nba_dict.get(current_ul_nba_list[int(player_choice) -1], \"\\n\\n\"))\n",
    "\t\t\tlist_item = int(player_choice)-1\n",
    "\t\t\tprint(\"\\n He ranks #\", current_ul_nba_fgp_list[list_item], \" in field goal percentage among all UofL players who ever played in the NBA.\")\n",
    "\t\t\t\n",
    "\t\telif int(player_choice) <= 0:\n",
    "\t\t\tprint(\"\\n\\nUofL's not that bad!\")\n",
    "\t\telif int(player_choice) > len(current_ul_nba_list):\n",
    "\t\t\tprint(\"\\n\\nUofL's good, but they don't have that many players in the NBA!\")\n",
    "\texcept ValueError:\n",
    "\t\tprint(\"\\n\\nPlease enter only one of the following integers\\n\\n\")\n",
    "\n",
    "\t\n"
   ]
  },
  {
   "cell_type": "markdown",
   "metadata": {},
   "source": [
    "### While the program you just ran gave the player's field goal percentage rank, the following section provides additional information for those interested:"
   ]
  },
  {
   "cell_type": "markdown",
   "metadata": {},
   "source": [
    "\n",
    "### Order all UL players who ever played in NBA by 3 point percentage:"
   ]
  },
  {
   "cell_type": "code",
   "execution_count": 12,
   "metadata": {},
   "outputs": [],
   "source": [
    "import pandas as pd\n",
    "import numpy as np\n",
    "import seaborn as sns\n",
    "import matplotlib.pyplot as plt\n",
    "%matplotlib inline\n",
    "ul_nba_players = pd.read_csv('ul_nba_players.csv')\n",
    "three_pp = ul_nba_players.sort_values(by=['3P%'], ascending = [False])"
   ]
  },
  {
   "cell_type": "code",
   "execution_count": 13,
   "metadata": {},
   "outputs": [],
   "source": [
    "three__pp = ul_nba_players.sort_values (by=['3P%'])"
   ]
  },
  {
   "cell_type": "code",
   "execution_count": 14,
   "metadata": {},
   "outputs": [],
   "source": [
    "three_pp2 = three_pp.reset_index(drop=True)"
   ]
  },
  {
   "cell_type": "markdown",
   "metadata": {},
   "source": [
    "### Here are the Column Headings to see all the info available:"
   ]
  },
  {
   "cell_type": "code",
   "execution_count": 15,
   "metadata": {},
   "outputs": [
    {
     "data": {
      "text/plain": [
       "Index(['Rk', 'Player', 'Year', 'Rd', 'Overall', 'From', 'To', 'G', 'MP', 'FG',\n",
       "       'FGA', '3P', '3PA', 'FT', 'FTA', 'ORB', 'TRB', 'AST', 'STL', 'BLK',\n",
       "       'TOV', 'PF', 'PTS', 'FG%', '3P%', 'FT%', 'MP.1', 'PTS.1', 'TRB.1',\n",
       "       'AST.1'],\n",
       "      dtype='object')"
      ]
     },
     "execution_count": 15,
     "metadata": {},
     "output_type": "execute_result"
    }
   ],
   "source": [
    "three_pp2.columns"
   ]
  },
  {
   "cell_type": "markdown",
   "metadata": {},
   "source": [
    "### Display life-time UL players ordered by 3 point percentage:"
   ]
  },
  {
   "cell_type": "code",
   "execution_count": 16,
   "metadata": {},
   "outputs": [
    {
     "data": {
      "text/html": [
       "<div>\n",
       "<style scoped>\n",
       "    .dataframe tbody tr th:only-of-type {\n",
       "        vertical-align: middle;\n",
       "    }\n",
       "\n",
       "    .dataframe tbody tr th {\n",
       "        vertical-align: top;\n",
       "    }\n",
       "\n",
       "    .dataframe thead th {\n",
       "        text-align: right;\n",
       "    }\n",
       "</style>\n",
       "<table border=\"1\" class=\"dataframe\">\n",
       "  <thead>\n",
       "    <tr style=\"text-align: right;\">\n",
       "      <th></th>\n",
       "      <th>Player</th>\n",
       "      <th>3P%</th>\n",
       "    </tr>\n",
       "  </thead>\n",
       "  <tbody>\n",
       "    <tr>\n",
       "      <th>0</th>\n",
       "      <td>Alvin Sims</td>\n",
       "      <td>1.000</td>\n",
       "    </tr>\n",
       "    <tr>\n",
       "      <th>1</th>\n",
       "      <td>Jerome Harmon</td>\n",
       "      <td>1.000</td>\n",
       "    </tr>\n",
       "    <tr>\n",
       "      <th>2</th>\n",
       "      <td>Jordan Nwora</td>\n",
       "      <td>0.500</td>\n",
       "    </tr>\n",
       "    <tr>\n",
       "      <th>3</th>\n",
       "      <td>Wes Unseld *</td>\n",
       "      <td>0.500</td>\n",
       "    </tr>\n",
       "    <tr>\n",
       "      <th>4</th>\n",
       "      <td>DeJuan Wheat</td>\n",
       "      <td>0.390</td>\n",
       "    </tr>\n",
       "    <tr>\n",
       "      <th>5</th>\n",
       "      <td>Terry Rozier</td>\n",
       "      <td>0.380</td>\n",
       "    </tr>\n",
       "    <tr>\n",
       "      <th>6</th>\n",
       "      <td>Donovan Mitchell</td>\n",
       "      <td>0.361</td>\n",
       "    </tr>\n",
       "    <tr>\n",
       "      <th>7</th>\n",
       "      <td>Dwayne Morton</td>\n",
       "      <td>0.360</td>\n",
       "    </tr>\n",
       "    <tr>\n",
       "      <th>8</th>\n",
       "      <td>Gorgui Dieng</td>\n",
       "      <td>0.358</td>\n",
       "    </tr>\n",
       "    <tr>\n",
       "      <th>9</th>\n",
       "      <td>Damion Lee</td>\n",
       "      <td>0.357</td>\n",
       "    </tr>\n",
       "    <tr>\n",
       "      <th>10</th>\n",
       "      <td>Francisco García</td>\n",
       "      <td>0.357</td>\n",
       "    </tr>\n",
       "    <tr>\n",
       "      <th>11</th>\n",
       "      <td>Darrell Griffith</td>\n",
       "      <td>0.332</td>\n",
       "    </tr>\n",
       "    <tr>\n",
       "      <th>12</th>\n",
       "      <td>Earl Clark</td>\n",
       "      <td>0.328</td>\n",
       "    </tr>\n",
       "    <tr>\n",
       "      <th>13</th>\n",
       "      <td>Terrence Williams</td>\n",
       "      <td>0.317</td>\n",
       "    </tr>\n",
       "    <tr>\n",
       "      <th>14</th>\n",
       "      <td>LaBradford Smith</td>\n",
       "      <td>0.298</td>\n",
       "    </tr>\n",
       "    <tr>\n",
       "      <th>15</th>\n",
       "      <td>Milt Wagner</td>\n",
       "      <td>0.296</td>\n",
       "    </tr>\n",
       "    <tr>\n",
       "      <th>16</th>\n",
       "      <td>Derek Smith</td>\n",
       "      <td>0.294</td>\n",
       "    </tr>\n",
       "    <tr>\n",
       "      <th>17</th>\n",
       "      <td>Kenny Payne</td>\n",
       "      <td>0.293</td>\n",
       "    </tr>\n",
       "    <tr>\n",
       "      <th>18</th>\n",
       "      <td>Peyton Siva</td>\n",
       "      <td>0.280</td>\n",
       "    </tr>\n",
       "    <tr>\n",
       "      <th>19</th>\n",
       "      <td>Lancaster Gordon</td>\n",
       "      <td>0.271</td>\n",
       "    </tr>\n",
       "    <tr>\n",
       "      <th>20</th>\n",
       "      <td>Reece Gaines</td>\n",
       "      <td>0.269</td>\n",
       "    </tr>\n",
       "    <tr>\n",
       "      <th>21</th>\n",
       "      <td>Deng Adel</td>\n",
       "      <td>0.261</td>\n",
       "    </tr>\n",
       "    <tr>\n",
       "      <th>22</th>\n",
       "      <td>Rodney McCray</td>\n",
       "      <td>0.260</td>\n",
       "    </tr>\n",
       "    <tr>\n",
       "      <th>23</th>\n",
       "      <td>Bud Olsen</td>\n",
       "      <td>0.250</td>\n",
       "    </tr>\n",
       "    <tr>\n",
       "      <th>24</th>\n",
       "      <td>Junior Bridgeman</td>\n",
       "      <td>0.244</td>\n",
       "    </tr>\n",
       "    <tr>\n",
       "      <th>25</th>\n",
       "      <td>Greg Minor</td>\n",
       "      <td>0.226</td>\n",
       "    </tr>\n",
       "    <tr>\n",
       "      <th>26</th>\n",
       "      <td>Ronald Thomas</td>\n",
       "      <td>0.214</td>\n",
       "    </tr>\n",
       "    <tr>\n",
       "      <th>27</th>\n",
       "      <td>Henry Bacon</td>\n",
       "      <td>0.200</td>\n",
       "    </tr>\n",
       "    <tr>\n",
       "      <th>28</th>\n",
       "      <td>Russ Smith</td>\n",
       "      <td>0.188</td>\n",
       "    </tr>\n",
       "    <tr>\n",
       "      <th>29</th>\n",
       "      <td>Clifford Rozier</td>\n",
       "      <td>0.182</td>\n",
       "    </tr>\n",
       "    <tr>\n",
       "      <th>30</th>\n",
       "      <td>Jerry Smith</td>\n",
       "      <td>0.167</td>\n",
       "    </tr>\n",
       "    <tr>\n",
       "      <th>31</th>\n",
       "      <td>Billy Thompson</td>\n",
       "      <td>0.154</td>\n",
       "    </tr>\n",
       "    <tr>\n",
       "      <th>32</th>\n",
       "      <td>Samaki Walker</td>\n",
       "      <td>0.111</td>\n",
       "    </tr>\n",
       "    <tr>\n",
       "      <th>33</th>\n",
       "      <td>Charles Jones</td>\n",
       "      <td>0.111</td>\n",
       "    </tr>\n",
       "    <tr>\n",
       "      <th>34</th>\n",
       "      <td>Montrezl Harrell</td>\n",
       "      <td>0.093</td>\n",
       "    </tr>\n",
       "    <tr>\n",
       "      <th>35</th>\n",
       "      <td>Jerry Eaves</td>\n",
       "      <td>0.071</td>\n",
       "    </tr>\n",
       "    <tr>\n",
       "      <th>36</th>\n",
       "      <td>Pervis Ellison</td>\n",
       "      <td>0.050</td>\n",
       "    </tr>\n",
       "    <tr>\n",
       "      <th>37</th>\n",
       "      <td>Allen Murphy</td>\n",
       "      <td>0.000</td>\n",
       "    </tr>\n",
       "    <tr>\n",
       "      <th>38</th>\n",
       "      <td>Ray Spalding</td>\n",
       "      <td>0.000</td>\n",
       "    </tr>\n",
       "    <tr>\n",
       "      <th>39</th>\n",
       "      <td>Felton Spencer</td>\n",
       "      <td>0.000</td>\n",
       "    </tr>\n",
       "    <tr>\n",
       "      <th>40</th>\n",
       "      <td>Samardo Samuels</td>\n",
       "      <td>0.000</td>\n",
       "    </tr>\n",
       "  </tbody>\n",
       "</table>\n",
       "</div>"
      ],
      "text/plain": [
       "               Player    3P%\n",
       "0          Alvin Sims  1.000\n",
       "1       Jerome Harmon  1.000\n",
       "2        Jordan Nwora  0.500\n",
       "3        Wes Unseld *  0.500\n",
       "4        DeJuan Wheat  0.390\n",
       "5        Terry Rozier  0.380\n",
       "6    Donovan Mitchell  0.361\n",
       "7       Dwayne Morton  0.360\n",
       "8        Gorgui Dieng  0.358\n",
       "9          Damion Lee  0.357\n",
       "10   Francisco García  0.357\n",
       "11   Darrell Griffith  0.332\n",
       "12         Earl Clark  0.328\n",
       "13  Terrence Williams  0.317\n",
       "14   LaBradford Smith  0.298\n",
       "15        Milt Wagner  0.296\n",
       "16        Derek Smith  0.294\n",
       "17        Kenny Payne  0.293\n",
       "18        Peyton Siva  0.280\n",
       "19   Lancaster Gordon  0.271\n",
       "20       Reece Gaines  0.269\n",
       "21          Deng Adel  0.261\n",
       "22      Rodney McCray  0.260\n",
       "23          Bud Olsen  0.250\n",
       "24   Junior Bridgeman  0.244\n",
       "25         Greg Minor  0.226\n",
       "26      Ronald Thomas  0.214\n",
       "27        Henry Bacon  0.200\n",
       "28         Russ Smith  0.188\n",
       "29    Clifford Rozier  0.182\n",
       "30        Jerry Smith  0.167\n",
       "31     Billy Thompson  0.154\n",
       "32      Samaki Walker  0.111\n",
       "33      Charles Jones  0.111\n",
       "34   Montrezl Harrell  0.093\n",
       "35        Jerry Eaves  0.071\n",
       "36     Pervis Ellison  0.050\n",
       "37       Allen Murphy  0.000\n",
       "38       Ray Spalding  0.000\n",
       "39     Felton Spencer  0.000\n",
       "40    Samardo Samuels  0.000"
      ]
     },
     "execution_count": 16,
     "metadata": {},
     "output_type": "execute_result"
    }
   ],
   "source": [
    "cols = ['Player', '3P%']\n",
    "three_pp2[cols].head(41)"
   ]
  },
  {
   "cell_type": "markdown",
   "metadata": {},
   "source": [
    "### One can use .loc[] to select only current players' 3 point percentages:"
   ]
  },
  {
   "cell_type": "code",
   "execution_count": 17,
   "metadata": {},
   "outputs": [
    {
     "data": {
      "text/html": [
       "<div>\n",
       "<style scoped>\n",
       "    .dataframe tbody tr th:only-of-type {\n",
       "        vertical-align: middle;\n",
       "    }\n",
       "\n",
       "    .dataframe tbody tr th {\n",
       "        vertical-align: top;\n",
       "    }\n",
       "\n",
       "    .dataframe thead th {\n",
       "        text-align: right;\n",
       "    }\n",
       "</style>\n",
       "<table border=\"1\" class=\"dataframe\">\n",
       "  <thead>\n",
       "    <tr style=\"text-align: right;\">\n",
       "      <th></th>\n",
       "      <th>3P%</th>\n",
       "    </tr>\n",
       "    <tr>\n",
       "      <th>Player</th>\n",
       "      <th></th>\n",
       "    </tr>\n",
       "  </thead>\n",
       "  <tbody>\n",
       "    <tr>\n",
       "      <th>Jordan Nwora</th>\n",
       "      <td>0.500</td>\n",
       "    </tr>\n",
       "    <tr>\n",
       "      <th>Terry Rozier</th>\n",
       "      <td>0.380</td>\n",
       "    </tr>\n",
       "    <tr>\n",
       "      <th>Damion Lee</th>\n",
       "      <td>0.357</td>\n",
       "    </tr>\n",
       "    <tr>\n",
       "      <th>Deng Adel</th>\n",
       "      <td>0.261</td>\n",
       "    </tr>\n",
       "    <tr>\n",
       "      <th>Montrezl Harrell</th>\n",
       "      <td>0.093</td>\n",
       "    </tr>\n",
       "  </tbody>\n",
       "</table>\n",
       "</div>"
      ],
      "text/plain": [
       "                    3P%\n",
       "Player                 \n",
       "Jordan Nwora      0.500\n",
       "Terry Rozier      0.380\n",
       "Damion Lee        0.357\n",
       "Deng Adel         0.261\n",
       "Montrezl Harrell  0.093"
      ]
     },
     "execution_count": 17,
     "metadata": {},
     "output_type": "execute_result"
    }
   ],
   "source": [
    "current_ul_nba_players = pd.read_csv('ul_nba_players.csv', index_col = 'Player')\n",
    "current_ul_nba_players.index\n",
    "rows = ['Jordan Nwora','Terry Rozier','Damion Lee','Deng Adel','Montrezl Harrell']\n",
    "cols = ['3P%']\n",
    "current_ul_nba_players.loc[rows,cols]\n"
   ]
  },
  {
   "cell_type": "markdown",
   "metadata": {},
   "source": [
    "### Order and display UL players who ever played in NBA by field goal percentage:"
   ]
  },
  {
   "cell_type": "code",
   "execution_count": 18,
   "metadata": {},
   "outputs": [],
   "source": [
    "FGP = ul_nba_players.sort_values(by=['FG%'], ascending = [False])"
   ]
  },
  {
   "cell_type": "code",
   "execution_count": 19,
   "metadata": {},
   "outputs": [],
   "source": [
    "FGP2 = FGP.reset_index(drop=True)"
   ]
  },
  {
   "cell_type": "code",
   "execution_count": 20,
   "metadata": {},
   "outputs": [
    {
     "data": {
      "text/html": [
       "<div>\n",
       "<style scoped>\n",
       "    .dataframe tbody tr th:only-of-type {\n",
       "        vertical-align: middle;\n",
       "    }\n",
       "\n",
       "    .dataframe tbody tr th {\n",
       "        vertical-align: top;\n",
       "    }\n",
       "\n",
       "    .dataframe thead th {\n",
       "        text-align: right;\n",
       "    }\n",
       "</style>\n",
       "<table border=\"1\" class=\"dataframe\">\n",
       "  <thead>\n",
       "    <tr style=\"text-align: right;\">\n",
       "      <th></th>\n",
       "      <th>Player</th>\n",
       "      <th>FG%</th>\n",
       "    </tr>\n",
       "  </thead>\n",
       "  <tbody>\n",
       "    <tr>\n",
       "      <th>0</th>\n",
       "      <td>Montrezl Harrell</td>\n",
       "      <td>0.617</td>\n",
       "    </tr>\n",
       "    <tr>\n",
       "      <th>1</th>\n",
       "      <td>Chinanu Onuaku</td>\n",
       "      <td>0.583</td>\n",
       "    </tr>\n",
       "    <tr>\n",
       "      <th>2</th>\n",
       "      <td>Mangok Mathiang</td>\n",
       "      <td>0.571</td>\n",
       "    </tr>\n",
       "    <tr>\n",
       "      <th>3</th>\n",
       "      <td>Ray Spalding</td>\n",
       "      <td>0.532</td>\n",
       "    </tr>\n",
       "    <tr>\n",
       "      <th>4</th>\n",
       "      <td>Pervis Ellison</td>\n",
       "      <td>0.510</td>\n",
       "    </tr>\n",
       "    <tr>\n",
       "      <th>5</th>\n",
       "      <td>Wes Unseld *</td>\n",
       "      <td>0.509</td>\n",
       "    </tr>\n",
       "    <tr>\n",
       "      <th>6</th>\n",
       "      <td>Billy Thompson</td>\n",
       "      <td>0.505</td>\n",
       "    </tr>\n",
       "    <tr>\n",
       "      <th>7</th>\n",
       "      <td>Rodney McCray</td>\n",
       "      <td>0.503</td>\n",
       "    </tr>\n",
       "    <tr>\n",
       "      <th>8</th>\n",
       "      <td>Gorgui Dieng</td>\n",
       "      <td>0.501</td>\n",
       "    </tr>\n",
       "    <tr>\n",
       "      <th>9</th>\n",
       "      <td>Derek Smith</td>\n",
       "      <td>0.499</td>\n",
       "    </tr>\n",
       "    <tr>\n",
       "      <th>10</th>\n",
       "      <td>Clifford Rozier</td>\n",
       "      <td>0.496</td>\n",
       "    </tr>\n",
       "    <tr>\n",
       "      <th>11</th>\n",
       "      <td>Charles Jones</td>\n",
       "      <td>0.493</td>\n",
       "    </tr>\n",
       "    <tr>\n",
       "      <th>12</th>\n",
       "      <td>Butch Beard</td>\n",
       "      <td>0.487</td>\n",
       "    </tr>\n",
       "    <tr>\n",
       "      <th>13</th>\n",
       "      <td>Derrick Caracter</td>\n",
       "      <td>0.485</td>\n",
       "    </tr>\n",
       "    <tr>\n",
       "      <th>14</th>\n",
       "      <td>Felton Spencer</td>\n",
       "      <td>0.484</td>\n",
       "    </tr>\n",
       "    <tr>\n",
       "      <th>15</th>\n",
       "      <td>Greg Minor</td>\n",
       "      <td>0.478</td>\n",
       "    </tr>\n",
       "    <tr>\n",
       "      <th>16</th>\n",
       "      <td>Junior Bridgeman</td>\n",
       "      <td>0.475</td>\n",
       "    </tr>\n",
       "    <tr>\n",
       "      <th>17</th>\n",
       "      <td>Jerry Eaves</td>\n",
       "      <td>0.472</td>\n",
       "    </tr>\n",
       "    <tr>\n",
       "      <th>18</th>\n",
       "      <td>Ronald Thomas</td>\n",
       "      <td>0.468</td>\n",
       "    </tr>\n",
       "    <tr>\n",
       "      <th>19</th>\n",
       "      <td>Darrell Griffith</td>\n",
       "      <td>0.463</td>\n",
       "    </tr>\n",
       "    <tr>\n",
       "      <th>20</th>\n",
       "      <td>Samaki Walker</td>\n",
       "      <td>0.462</td>\n",
       "    </tr>\n",
       "    <tr>\n",
       "      <th>21</th>\n",
       "      <td>Jordan Nwora</td>\n",
       "      <td>0.459</td>\n",
       "    </tr>\n",
       "    <tr>\n",
       "      <th>22</th>\n",
       "      <td>Samardo Samuels</td>\n",
       "      <td>0.445</td>\n",
       "    </tr>\n",
       "    <tr>\n",
       "      <th>23</th>\n",
       "      <td>Jim Price</td>\n",
       "      <td>0.444</td>\n",
       "    </tr>\n",
       "    <tr>\n",
       "      <th>24</th>\n",
       "      <td>Mike Grosso</td>\n",
       "      <td>0.441</td>\n",
       "    </tr>\n",
       "    <tr>\n",
       "      <th>25</th>\n",
       "      <td>Donovan Mitchell</td>\n",
       "      <td>0.438</td>\n",
       "    </tr>\n",
       "    <tr>\n",
       "      <th>26</th>\n",
       "      <td>Bud Olsen</td>\n",
       "      <td>0.433</td>\n",
       "    </tr>\n",
       "    <tr>\n",
       "      <th>27</th>\n",
       "      <td>LaBradford Smith</td>\n",
       "      <td>0.432</td>\n",
       "    </tr>\n",
       "    <tr>\n",
       "      <th>28</th>\n",
       "      <td>Francisco García</td>\n",
       "      <td>0.427</td>\n",
       "    </tr>\n",
       "    <tr>\n",
       "      <th>29</th>\n",
       "      <td>Damion Lee</td>\n",
       "      <td>0.424</td>\n",
       "    </tr>\n",
       "    <tr>\n",
       "      <th>30</th>\n",
       "      <td>Scooter McCray</td>\n",
       "      <td>0.423</td>\n",
       "    </tr>\n",
       "    <tr>\n",
       "      <th>31</th>\n",
       "      <td>Milt Wagner</td>\n",
       "      <td>0.422</td>\n",
       "    </tr>\n",
       "    <tr>\n",
       "      <th>32</th>\n",
       "      <td>Jack Coleman</td>\n",
       "      <td>0.416</td>\n",
       "    </tr>\n",
       "    <tr>\n",
       "      <th>33</th>\n",
       "      <td>Terrence Williams</td>\n",
       "      <td>0.412</td>\n",
       "    </tr>\n",
       "    <tr>\n",
       "      <th>34</th>\n",
       "      <td>Wesley Cox</td>\n",
       "      <td>0.412</td>\n",
       "    </tr>\n",
       "    <tr>\n",
       "      <th>35</th>\n",
       "      <td>Kenny Payne</td>\n",
       "      <td>0.410</td>\n",
       "    </tr>\n",
       "    <tr>\n",
       "      <th>36</th>\n",
       "      <td>Terry Rozier</td>\n",
       "      <td>0.405</td>\n",
       "    </tr>\n",
       "    <tr>\n",
       "      <th>37</th>\n",
       "      <td>Earl Clark</td>\n",
       "      <td>0.403</td>\n",
       "    </tr>\n",
       "    <tr>\n",
       "      <th>38</th>\n",
       "      <td>Alvin Sims</td>\n",
       "      <td>0.400</td>\n",
       "    </tr>\n",
       "    <tr>\n",
       "      <th>39</th>\n",
       "      <td>Jerome Harmon</td>\n",
       "      <td>0.396</td>\n",
       "    </tr>\n",
       "    <tr>\n",
       "      <th>40</th>\n",
       "      <td>Rick Wilson</td>\n",
       "      <td>0.393</td>\n",
       "    </tr>\n",
       "  </tbody>\n",
       "</table>\n",
       "</div>"
      ],
      "text/plain": [
       "               Player    FG%\n",
       "0    Montrezl Harrell  0.617\n",
       "1      Chinanu Onuaku  0.583\n",
       "2     Mangok Mathiang  0.571\n",
       "3        Ray Spalding  0.532\n",
       "4      Pervis Ellison  0.510\n",
       "5        Wes Unseld *  0.509\n",
       "6      Billy Thompson  0.505\n",
       "7       Rodney McCray  0.503\n",
       "8        Gorgui Dieng  0.501\n",
       "9         Derek Smith  0.499\n",
       "10    Clifford Rozier  0.496\n",
       "11      Charles Jones  0.493\n",
       "12        Butch Beard  0.487\n",
       "13   Derrick Caracter  0.485\n",
       "14     Felton Spencer  0.484\n",
       "15         Greg Minor  0.478\n",
       "16   Junior Bridgeman  0.475\n",
       "17        Jerry Eaves  0.472\n",
       "18      Ronald Thomas  0.468\n",
       "19   Darrell Griffith  0.463\n",
       "20      Samaki Walker  0.462\n",
       "21       Jordan Nwora  0.459\n",
       "22    Samardo Samuels  0.445\n",
       "23          Jim Price  0.444\n",
       "24        Mike Grosso  0.441\n",
       "25   Donovan Mitchell  0.438\n",
       "26          Bud Olsen  0.433\n",
       "27   LaBradford Smith  0.432\n",
       "28   Francisco García  0.427\n",
       "29         Damion Lee  0.424\n",
       "30     Scooter McCray  0.423\n",
       "31        Milt Wagner  0.422\n",
       "32       Jack Coleman  0.416\n",
       "33  Terrence Williams  0.412\n",
       "34         Wesley Cox  0.412\n",
       "35        Kenny Payne  0.410\n",
       "36       Terry Rozier  0.405\n",
       "37         Earl Clark  0.403\n",
       "38         Alvin Sims  0.400\n",
       "39      Jerome Harmon  0.396\n",
       "40        Rick Wilson  0.393"
      ]
     },
     "execution_count": 20,
     "metadata": {},
     "output_type": "execute_result"
    }
   ],
   "source": [
    "cols = ['Player', 'FG%']\n",
    "FGP2[cols].head(41)"
   ]
  },
  {
   "cell_type": "markdown",
   "metadata": {},
   "source": [
    "### Order all UL players who ever played in NBA by free throw percentage:"
   ]
  },
  {
   "cell_type": "code",
   "execution_count": 21,
   "metadata": {},
   "outputs": [],
   "source": [
    "FTP = ul_nba_players.sort_values(by=['FT%'], ascending=[False])"
   ]
  },
  {
   "cell_type": "code",
   "execution_count": 22,
   "metadata": {},
   "outputs": [],
   "source": [
    "FTP2 = FTP.reset_index(drop=True)"
   ]
  },
  {
   "cell_type": "code",
   "execution_count": 23,
   "metadata": {},
   "outputs": [
    {
     "data": {
      "text/html": [
       "<div>\n",
       "<style scoped>\n",
       "    .dataframe tbody tr th:only-of-type {\n",
       "        vertical-align: middle;\n",
       "    }\n",
       "\n",
       "    .dataframe tbody tr th {\n",
       "        vertical-align: top;\n",
       "    }\n",
       "\n",
       "    .dataframe thead th {\n",
       "        text-align: right;\n",
       "    }\n",
       "</style>\n",
       "<table border=\"1\" class=\"dataframe\">\n",
       "  <thead>\n",
       "    <tr style=\"text-align: right;\">\n",
       "      <th></th>\n",
       "      <th>Player</th>\n",
       "      <th>FT%</th>\n",
       "    </tr>\n",
       "  </thead>\n",
       "  <tbody>\n",
       "    <tr>\n",
       "      <th>0</th>\n",
       "      <td>Deng Adel</td>\n",
       "      <td>1.000</td>\n",
       "    </tr>\n",
       "    <tr>\n",
       "      <th>1</th>\n",
       "      <td>Chinanu Onuaku</td>\n",
       "      <td>1.000</td>\n",
       "    </tr>\n",
       "    <tr>\n",
       "      <th>2</th>\n",
       "      <td>Jordan Nwora</td>\n",
       "      <td>0.900</td>\n",
       "    </tr>\n",
       "    <tr>\n",
       "      <th>3</th>\n",
       "      <td>Milt Wagner</td>\n",
       "      <td>0.875</td>\n",
       "    </tr>\n",
       "    <tr>\n",
       "      <th>4</th>\n",
       "      <td>Kenny Payne</td>\n",
       "      <td>0.859</td>\n",
       "    </tr>\n",
       "    <tr>\n",
       "      <th>5</th>\n",
       "      <td>Damion Lee</td>\n",
       "      <td>0.858</td>\n",
       "    </tr>\n",
       "    <tr>\n",
       "      <th>6</th>\n",
       "      <td>Junior Bridgeman</td>\n",
       "      <td>0.846</td>\n",
       "    </tr>\n",
       "    <tr>\n",
       "      <th>7</th>\n",
       "      <td>Roger Burkman</td>\n",
       "      <td>0.833</td>\n",
       "    </tr>\n",
       "    <tr>\n",
       "      <th>8</th>\n",
       "      <td>Donovan Mitchell</td>\n",
       "      <td>0.826</td>\n",
       "    </tr>\n",
       "    <tr>\n",
       "      <th>9</th>\n",
       "      <td>Jim Price</td>\n",
       "      <td>0.815</td>\n",
       "    </tr>\n",
       "    <tr>\n",
       "      <th>10</th>\n",
       "      <td>LaBradford Smith</td>\n",
       "      <td>0.813</td>\n",
       "    </tr>\n",
       "    <tr>\n",
       "      <th>11</th>\n",
       "      <td>Terry Rozier</td>\n",
       "      <td>0.810</td>\n",
       "    </tr>\n",
       "    <tr>\n",
       "      <th>12</th>\n",
       "      <td>Francisco García</td>\n",
       "      <td>0.799</td>\n",
       "    </tr>\n",
       "    <tr>\n",
       "      <th>13</th>\n",
       "      <td>Gorgui Dieng</td>\n",
       "      <td>0.789</td>\n",
       "    </tr>\n",
       "    <tr>\n",
       "      <th>14</th>\n",
       "      <td>Jerry Eaves</td>\n",
       "      <td>0.773</td>\n",
       "    </tr>\n",
       "    <tr>\n",
       "      <th>15</th>\n",
       "      <td>Butch Beard</td>\n",
       "      <td>0.771</td>\n",
       "    </tr>\n",
       "    <tr>\n",
       "      <th>16</th>\n",
       "      <td>Russ Smith</td>\n",
       "      <td>0.769</td>\n",
       "    </tr>\n",
       "    <tr>\n",
       "      <th>17</th>\n",
       "      <td>Greg Minor</td>\n",
       "      <td>0.767</td>\n",
       "    </tr>\n",
       "    <tr>\n",
       "      <th>18</th>\n",
       "      <td>Lancaster Gordon</td>\n",
       "      <td>0.767</td>\n",
       "    </tr>\n",
       "    <tr>\n",
       "      <th>19</th>\n",
       "      <td>Jack Turner</td>\n",
       "      <td>0.762</td>\n",
       "    </tr>\n",
       "    <tr>\n",
       "      <th>20</th>\n",
       "      <td>Rodney McCray</td>\n",
       "      <td>0.761</td>\n",
       "    </tr>\n",
       "    <tr>\n",
       "      <th>21</th>\n",
       "      <td>Derek Smith</td>\n",
       "      <td>0.753</td>\n",
       "    </tr>\n",
       "    <tr>\n",
       "      <th>22</th>\n",
       "      <td>Derrick Caracter</td>\n",
       "      <td>0.739</td>\n",
       "    </tr>\n",
       "    <tr>\n",
       "      <th>23</th>\n",
       "      <td>Peyton Siva</td>\n",
       "      <td>0.733</td>\n",
       "    </tr>\n",
       "    <tr>\n",
       "      <th>24</th>\n",
       "      <td>Chuck Noble</td>\n",
       "      <td>0.731</td>\n",
       "    </tr>\n",
       "    <tr>\n",
       "      <th>25</th>\n",
       "      <td>Darrell Griffith</td>\n",
       "      <td>0.707</td>\n",
       "    </tr>\n",
       "    <tr>\n",
       "      <th>26</th>\n",
       "      <td>DeJuan Wheat</td>\n",
       "      <td>0.700</td>\n",
       "    </tr>\n",
       "    <tr>\n",
       "      <th>27</th>\n",
       "      <td>Jack Coleman</td>\n",
       "      <td>0.695</td>\n",
       "    </tr>\n",
       "    <tr>\n",
       "      <th>28</th>\n",
       "      <td>Pervis Ellison</td>\n",
       "      <td>0.689</td>\n",
       "    </tr>\n",
       "    <tr>\n",
       "      <th>29</th>\n",
       "      <td>Allen Murphy</td>\n",
       "      <td>0.682</td>\n",
       "    </tr>\n",
       "    <tr>\n",
       "      <th>30</th>\n",
       "      <td>Dwayne Morton</td>\n",
       "      <td>0.682</td>\n",
       "    </tr>\n",
       "    <tr>\n",
       "      <th>31</th>\n",
       "      <td>Billy Thompson</td>\n",
       "      <td>0.674</td>\n",
       "    </tr>\n",
       "    <tr>\n",
       "      <th>32</th>\n",
       "      <td>Charlie Tyra</td>\n",
       "      <td>0.672</td>\n",
       "    </tr>\n",
       "    <tr>\n",
       "      <th>33</th>\n",
       "      <td>Earl Clark</td>\n",
       "      <td>0.664</td>\n",
       "    </tr>\n",
       "    <tr>\n",
       "      <th>34</th>\n",
       "      <td>Terrence Williams</td>\n",
       "      <td>0.659</td>\n",
       "    </tr>\n",
       "    <tr>\n",
       "      <th>35</th>\n",
       "      <td>Felton Spencer</td>\n",
       "      <td>0.658</td>\n",
       "    </tr>\n",
       "    <tr>\n",
       "      <th>36</th>\n",
       "      <td>Samardo Samuels</td>\n",
       "      <td>0.653</td>\n",
       "    </tr>\n",
       "    <tr>\n",
       "      <th>37</th>\n",
       "      <td>Phil Rollins</td>\n",
       "      <td>0.649</td>\n",
       "    </tr>\n",
       "    <tr>\n",
       "      <th>38</th>\n",
       "      <td>Montrezl Harrell</td>\n",
       "      <td>0.645</td>\n",
       "    </tr>\n",
       "    <tr>\n",
       "      <th>39</th>\n",
       "      <td>Wes Unseld *</td>\n",
       "      <td>0.633</td>\n",
       "    </tr>\n",
       "    <tr>\n",
       "      <th>40</th>\n",
       "      <td>Samaki Walker</td>\n",
       "      <td>0.630</td>\n",
       "    </tr>\n",
       "  </tbody>\n",
       "</table>\n",
       "</div>"
      ],
      "text/plain": [
       "               Player    FT%\n",
       "0           Deng Adel  1.000\n",
       "1      Chinanu Onuaku  1.000\n",
       "2        Jordan Nwora  0.900\n",
       "3         Milt Wagner  0.875\n",
       "4         Kenny Payne  0.859\n",
       "5          Damion Lee  0.858\n",
       "6    Junior Bridgeman  0.846\n",
       "7       Roger Burkman  0.833\n",
       "8    Donovan Mitchell  0.826\n",
       "9           Jim Price  0.815\n",
       "10   LaBradford Smith  0.813\n",
       "11       Terry Rozier  0.810\n",
       "12   Francisco García  0.799\n",
       "13       Gorgui Dieng  0.789\n",
       "14        Jerry Eaves  0.773\n",
       "15        Butch Beard  0.771\n",
       "16         Russ Smith  0.769\n",
       "17         Greg Minor  0.767\n",
       "18   Lancaster Gordon  0.767\n",
       "19        Jack Turner  0.762\n",
       "20      Rodney McCray  0.761\n",
       "21        Derek Smith  0.753\n",
       "22   Derrick Caracter  0.739\n",
       "23        Peyton Siva  0.733\n",
       "24        Chuck Noble  0.731\n",
       "25   Darrell Griffith  0.707\n",
       "26       DeJuan Wheat  0.700\n",
       "27       Jack Coleman  0.695\n",
       "28     Pervis Ellison  0.689\n",
       "29       Allen Murphy  0.682\n",
       "30      Dwayne Morton  0.682\n",
       "31     Billy Thompson  0.674\n",
       "32       Charlie Tyra  0.672\n",
       "33         Earl Clark  0.664\n",
       "34  Terrence Williams  0.659\n",
       "35     Felton Spencer  0.658\n",
       "36    Samardo Samuels  0.653\n",
       "37       Phil Rollins  0.649\n",
       "38   Montrezl Harrell  0.645\n",
       "39       Wes Unseld *  0.633\n",
       "40      Samaki Walker  0.630"
      ]
     },
     "execution_count": 23,
     "metadata": {},
     "output_type": "execute_result"
    }
   ],
   "source": [
    "FTP2.head(50)\n",
    "cols = ['Player', 'FT%']\n",
    "FTP2[cols].head(41)"
   ]
  },
  {
   "cell_type": "markdown",
   "metadata": {},
   "source": [
    "### Descriptive Statistics of Field Goals"
   ]
  },
  {
   "cell_type": "code",
   "execution_count": 24,
   "metadata": {},
   "outputs": [
    {
     "data": {
      "text/plain": [
       "count      61.000000\n",
       "mean      824.360656\n",
       "std      1220.585488\n",
       "min         0.000000\n",
       "25%        32.000000\n",
       "50%       350.000000\n",
       "75%      1213.000000\n",
       "max      5237.000000\n",
       "Name: FG, dtype: float64"
      ]
     },
     "execution_count": 24,
     "metadata": {},
     "output_type": "execute_result"
    }
   ],
   "source": [
    "FTP2['FG'].describe()"
   ]
  },
  {
   "cell_type": "markdown",
   "metadata": {},
   "source": [
    "### Histogram of Field Goals"
   ]
  },
  {
   "cell_type": "code",
   "execution_count": 25,
   "metadata": {},
   "outputs": [
    {
     "data": {
      "text/plain": [
       "Text(0.5, 1.0, 'Career Field Goals')"
      ]
     },
     "execution_count": 25,
     "metadata": {},
     "output_type": "execute_result"
    },
    {
     "data": {
      "image/png": "[encoded data removed]",
      "text/plain": [
       "<Figure size 432x288 with 1 Axes>"
      ]
     },
     "metadata": {
      "needs_background": "light"
     },
     "output_type": "display_data"
    }
   ],
   "source": [
    "FTP2['FG'].hist(edgecolor='black', bins =5)\n",
    "plt.xlabel('Field Goals', fontsize=15)\n",
    "plt.ylabel('# Players', fontsize=15)\n",
    "plt.title('Career Field Goals', fontsize=20)"
   ]
  },
  {
   "cell_type": "markdown",
   "metadata": {},
   "source": [
    "### Descriptive Statistics of Points"
   ]
  },
  {
   "cell_type": "code",
   "execution_count": 26,
   "metadata": {},
   "outputs": [
    {
     "data": {
      "text/plain": [
       "count       61.000000\n",
       "mean      2066.344262\n",
       "std       2987.715420\n",
       "min          0.000000\n",
       "25%         81.000000\n",
       "50%        827.000000\n",
       "75%       3276.000000\n",
       "max      12391.000000\n",
       "Name: PTS, dtype: float64"
      ]
     },
     "execution_count": 26,
     "metadata": {},
     "output_type": "execute_result"
    }
   ],
   "source": [
    "FTP2['PTS'].describe()"
   ]
  },
  {
   "cell_type": "markdown",
   "metadata": {},
   "source": [
    "### Histogram of Points"
   ]
  },
  {
   "cell_type": "code",
   "execution_count": 27,
   "metadata": {},
   "outputs": [
    {
     "data": {
      "text/plain": [
       "Text(0.5, 1.0, 'Career Points')"
      ]
     },
     "execution_count": 27,
     "metadata": {},
     "output_type": "execute_result"
    },
    {
     "data": {
      "image/png": "[encoded data removed]",
      "text/plain": [
       "<Figure size 432x288 with 1 Axes>"
      ]
     },
     "metadata": {
      "needs_background": "light"
     },
     "output_type": "display_data"
    }
   ],
   "source": [
    "FTP2['PTS'].hist(edgecolor='black', bins =5)\n",
    "plt.xlabel('Points', fontsize=15)\n",
    "plt.ylabel('# Players', fontsize=15)\n",
    "plt.title('Career Points', fontsize=20)"
   ]
  },
  {
   "cell_type": "markdown",
   "metadata": {},
   "source": [
    "### Now lets see how to check on  UL players  in the virtual NBA world of Top Shots:`"
   ]
  },
  {
   "cell_type": "markdown",
   "metadata": {},
   "source": [
    "## Jordan Nwora"
   ]
  },
  {
   "cell_type": "markdown",
   "metadata": {},
   "source": [
    "[Click to see Jordan Nwora's Top Shot Moment](https://www.nbatopshot.com/listings/p2p/208ae30a-a4fe-42d4-9e51-e6fd1ad2a7a9+410fa4dd-cfc3-4bba-b0e0-4b623e9d8c41)"
   ]
  },
  {
   "cell_type": "markdown",
   "metadata": {},
   "source": [
    "### Jordan Nwora NBA Top Shot moment asking prices:"
   ]
  },
  {
   "cell_type": "code",
   "execution_count": 28,
   "metadata": {},
   "outputs": [],
   "source": [
    "nwora = pd.read_excel('NworaNone.xlsx')"
   ]
  },
  {
   "cell_type": "code",
   "execution_count": 29,
   "metadata": {},
   "outputs": [
    {
     "data": {
      "text/html": [
       "<div>\n",
       "<style scoped>\n",
       "    .dataframe tbody tr th:only-of-type {\n",
       "        vertical-align: middle;\n",
       "    }\n",
       "\n",
       "    .dataframe tbody tr th {\n",
       "        vertical-align: top;\n",
       "    }\n",
       "\n",
       "    .dataframe thead th {\n",
       "        text-align: right;\n",
       "    }\n",
       "</style>\n",
       "<table border=\"1\" class=\"dataframe\">\n",
       "  <thead>\n",
       "    <tr style=\"text-align: right;\">\n",
       "      <th></th>\n",
       "      <th>Asking</th>\n",
       "    </tr>\n",
       "  </thead>\n",
       "  <tbody>\n",
       "    <tr>\n",
       "      <th>0</th>\n",
       "      <td>999</td>\n",
       "    </tr>\n",
       "    <tr>\n",
       "      <th>1</th>\n",
       "      <td>555</td>\n",
       "    </tr>\n",
       "    <tr>\n",
       "      <th>2</th>\n",
       "      <td>500</td>\n",
       "    </tr>\n",
       "    <tr>\n",
       "      <th>3</th>\n",
       "      <td>999</td>\n",
       "    </tr>\n",
       "    <tr>\n",
       "      <th>4</th>\n",
       "      <td>1300</td>\n",
       "    </tr>\n",
       "    <tr>\n",
       "      <th>...</th>\n",
       "      <td>...</td>\n",
       "    </tr>\n",
       "    <tr>\n",
       "      <th>133</th>\n",
       "      <td>198</td>\n",
       "    </tr>\n",
       "    <tr>\n",
       "      <th>134</th>\n",
       "      <td>168</td>\n",
       "    </tr>\n",
       "    <tr>\n",
       "      <th>135</th>\n",
       "      <td>320</td>\n",
       "    </tr>\n",
       "    <tr>\n",
       "      <th>136</th>\n",
       "      <td>200</td>\n",
       "    </tr>\n",
       "    <tr>\n",
       "      <th>137</th>\n",
       "      <td>499</td>\n",
       "    </tr>\n",
       "  </tbody>\n",
       "</table>\n",
       "<p>138 rows × 1 columns</p>\n",
       "</div>"
      ],
      "text/plain": [
       "     Asking\n",
       "0       999\n",
       "1       555\n",
       "2       500\n",
       "3       999\n",
       "4      1300\n",
       "..      ...\n",
       "133     198\n",
       "134     168\n",
       "135     320\n",
       "136     200\n",
       "137     499\n",
       "\n",
       "[138 rows x 1 columns]"
      ]
     },
     "execution_count": 29,
     "metadata": {},
     "output_type": "execute_result"
    }
   ],
   "source": [
    "nwora"
   ]
  },
  {
   "cell_type": "markdown",
   "metadata": {},
   "source": [
    "### Jordan Nwora NBA Top Shot moment mean price:"
   ]
  },
  {
   "cell_type": "code",
   "execution_count": 30,
   "metadata": {},
   "outputs": [
    {
     "data": {
      "text/plain": [
       "Asking    373.391304\n",
       "dtype: float64"
      ]
     },
     "execution_count": 30,
     "metadata": {},
     "output_type": "execute_result"
    }
   ],
   "source": [
    "nwora.mean()"
   ]
  },
  {
   "cell_type": "markdown",
   "metadata": {},
   "source": [
    "## Jordan Nwora histogram of his NBA Top Shot asking prices:"
   ]
  },
  {
   "cell_type": "code",
   "execution_count": 31,
   "metadata": {},
   "outputs": [
    {
     "data": {
      "text/plain": [
       "Text(0.5, 1.0, 'Asking Prices')"
      ]
     },
     "execution_count": 31,
     "metadata": {},
     "output_type": "execute_result"
    },
    {
     "data": {
      "image/png": "[encoded data removed]",
      "text/plain": [
       "<Figure size 432x288 with 1 Axes>"
      ]
     },
     "metadata": {
      "needs_background": "light"
     },
     "output_type": "display_data"
    }
   ],
   "source": [
    "nwora['Asking'].hist(edgecolor='black', bins =5)\n",
    "plt.xlabel('Price(Dollars)', fontsize=15)\n",
    "plt.ylabel('Frequency', fontsize=15)\n",
    "plt.title('Asking Prices', fontsize=20)"
   ]
  },
  {
   "cell_type": "markdown",
   "metadata": {},
   "source": [
    "## Jordan Nwora Seaborn histogram :"
   ]
  },
  {
   "cell_type": "code",
   "execution_count": 32,
   "metadata": {},
   "outputs": [
    {
     "data": {
      "text/plain": [
       "<seaborn.axisgrid.FacetGrid at 0x2265f798880>"
      ]
     },
     "execution_count": 32,
     "metadata": {},
     "output_type": "execute_result"
    },
    {
     "data": {
      "image/png": "[encoded data removed]",
      "text/plain": [
       "<Figure size 360x360 with 1 Axes>"
      ]
     },
     "metadata": {
      "needs_background": "light"
     },
     "output_type": "display_data"
    }
   ],
   "source": [
    "sns.displot(nwora['Asking'])"
   ]
  },
  {
   "cell_type": "markdown",
   "metadata": {},
   "source": [
    "## Jordan Nwora's NBA Top Shot  asking prices by Serial Number scatterplot:"
   ]
  },
  {
   "cell_type": "code",
   "execution_count": 33,
   "metadata": {},
   "outputs": [
    {
     "data": {
      "text/plain": [
       "<AxesSubplot:xlabel='Serial #', ylabel='Asking Price'>"
      ]
     },
     "execution_count": 33,
     "metadata": {},
     "output_type": "execute_result"
    },
    {
     "data": {
      "image/png": "[encoded data removed]",
      "text/plain": [
       "<Figure size 432x288 with 1 Axes>"
      ]
     },
     "metadata": {
      "needs_background": "light"
     },
     "output_type": "display_data"
    }
   ],
   "source": [
    "nworaminus2=pd.read_excel('NworaNewMinus.xlsx')\n",
    "nworaminus2.plot.scatter(x='Serial #', y = 'Asking Price')"
   ]
  },
  {
   "cell_type": "markdown",
   "metadata": {},
   "source": [
    "## Jordan Nwora's NBA Top Shot  asking prices by Serial Number line plot:"
   ]
  },
  {
   "cell_type": "code",
   "execution_count": 34,
   "metadata": {},
   "outputs": [],
   "source": [
    "nworaminus=pd.read_excel('NworaNewMinus.xlsx', index_col='Serial #')"
   ]
  },
  {
   "cell_type": "code",
   "execution_count": 35,
   "metadata": {},
   "outputs": [
    {
     "data": {
      "text/plain": [
       "<AxesSubplot:title={'center':'Line Plot'}, xlabel='Serial #'>"
      ]
     },
     "execution_count": 35,
     "metadata": {},
     "output_type": "execute_result"
    },
    {
     "data": {
      "image/png": "[encoded data removed]",
      "text/plain": [
       "<Figure size 432x288 with 1 Axes>"
      ]
     },
     "metadata": {
      "needs_background": "light"
     },
     "output_type": "display_data"
    }
   ],
   "source": [
    "nworaminus.plot(kind='line', title = 'Line Plot')"
   ]
  },
  {
   "cell_type": "markdown",
   "metadata": {},
   "source": [
    "## Terry Rozier"
   ]
  },
  {
   "cell_type": "markdown",
   "metadata": {},
   "source": [
    "[Terry Rozier - 3 pointer Base Set](https://www.nbatopshot.com/listings/p2p/7b797690-5b53-45a7-b972-bd2d5152654a+3f2af8db-73ad-405f-8592-cfc309e6dee6)\n",
    "\n",
    "[Terry Rozier - 3 pointer Lace 'Em Up](https://www.nbatopshot.com/listings/p2p/3a0ae6ce-f22e-4d98-b1fe-906f859df983+3f2af8db-73ad-405f-8592-cfc309e6dee6)\n",
    "\n",
    "[Terry Rozier - Dunk Metallic Gold LE](https://nbatopshot.com/listings/p2p/33a4a3a3-a32c-4925-a4e8-7d24e56b105e+a8b9bb9c-f374-4113-b5cd-3b8c03dc4708)"
   ]
  },
  {
   "cell_type": "markdown",
   "metadata": {},
   "source": [
    "## Damion Lee"
   ]
  },
  {
   "cell_type": "markdown",
   "metadata": {},
   "source": [
    "[Damion Lee - Assist Base Set](https://www.nbatopshot.com/listings/p2p/7b797690-5b53-45a7-b972-bd2d5152654a+53c5bb3e-bbd8-4660-b074-703692fe202e)\n",
    "\n",
    "[Damion Lee - Assist Got Game](https://www.nbatopshot.com/listings/p2p/dd7c595c-5a1b-4f43-8493-db0a2bbcc5aa+53c5bb3e-bbd8-4660-b074-703692fe202e)"
   ]
  },
  {
   "cell_type": "markdown",
   "metadata": {},
   "source": [
    "## Donovan Mitchell"
   ]
  },
  {
   "cell_type": "markdown",
   "metadata": {},
   "source": [
    "[Donovan Mitchell - Jump Shot Base Set Series 2](https://www.nbatopshot.com/listings/p2p/208ae30a-a4fe-42d4-9e51-e6fd1ad2a7a9+58eed0b8-37db-45a0-abf8-0c5d2c2fb6a8)\n",
    "\n",
    "[Donovan Mitchell - Dunk Base Set Series 2](https://www.nbatopshot.com/listings/p2p/208ae30a-a4fe-42d4-9e51-e6fd1ad2a7a9+7cba9845-3acf-4442-bb88-b77477242cc9)\n",
    "\n",
    "[Donovan Mitchell - Assist The Gift Series 2](https://www.nbatopshot.com/listings/p2p/0a528e81-5bb0-4bf8-a7f9-6dbd183528ce+951ce905-c2de-4cd5-a8f2-6bcd32a84231)\n",
    "\n",
    "[Donovan Mitchell - Layup Metallic Gold LE Series 2](https://www.nbatopshot.com/listings/p2p/33a4a3a3-a32c-4925-a4e8-7d24e56b105e+8207840b-d01b-42e1-aab8-9a1abc36f8a2)\n",
    "\n",
    "[Donovan Mitchell - Handles Seeing Stars Series 2](https://www.nbatopshot.com/listings/p2p/122b048d-585e-4c63-8275-c23949576fd6+f3266ac2-958a-48c6-901d-6bb07a0f6201)\n",
    "\n",
    "[Donovan Mitchell - Dunk Base Set Series 1](https://www.nbatopshot.com/listings/p2p/7b797690-5b53-45a7-b972-bd2d5152654a+9f9d9b87-283a-48f1-a53e-37691a530b45)\n",
    "\n",
    "[Donovan Mitchell - Block Base Set Series 1](https://www.nbatopshot.com/listings/p2p/7b797690-5b53-45a7-b972-bd2d5152654a+690b3e21-e036-4eb0-ae81-c449e67b8b3d)\n",
    "\n",
    "[Donovan Mitchell - Block Metallic Gold LE Series 1](https://www.nbatopshot.com/listings/p2p/12a8288a-addc-4e5c-8af7-b3ba6e5161d4+690b3e21-e036-4eb0-ae81-c449e67b8b3d)\n",
    "\n",
    "[Donovan Mitchell - Block Holo MMXX Series 1](https://www.nbatopshot.com/listings/p2p/814c5183-596f-41d7-9135-c6b29faa9c6d+690b3e21-e036-4eb0-ae81-c449e67b8b3d)\n",
    "\n",
    "[Donovan Mitchell - Dunk First Round Series 1](https://www.nbatopshot.com/listings/p2p/d2378dc1-1168-410b-893d-e084170a402e+9f9d9b87-283a-48f1-a53e-37691a530b45)\n",
    "\n",
    "[Donovan Mitchell - Dunk Got Game Series 1](https://www.nbatopshot.com/listings/p2p/dd7c595c-5a1b-4f43-8493-db0a2bbcc5aa+9f9d9b87-283a-48f1-a53e-37691a530b45)\n",
    "\n"
   ]
  },
  {
   "cell_type": "markdown",
   "metadata": {},
   "source": [
    "## Montrezl Harrell"
   ]
  },
  {
   "cell_type": "markdown",
   "metadata": {},
   "source": [
    "[Montrezl Harrell - Dunk Base Set Series 2](https://www.nbatopshot.com/listings/p2p/208ae30a-a4fe-42d4-9e51-e6fd1ad2a7a9+3a1c50fb-8f5c-416d-aa82-544158252b35)\n",
    "\n",
    "[Montrezl Harrell - Dunk Base Set Series 1](https://www.nbatopshot.com/listings/p2p/7b797690-5b53-45a7-b972-bd2d5152654a+f7e408b6-e70e-4bcf-98d1-faab9f99242d)\n",
    "\n",
    "[Montrezl Harrell - Dunk Metallic Gold LE Series 1](https://www.nbatopshot.com/listings/p2p/12a8288a-addc-4e5c-8af7-b3ba6e5161d4+f7e408b6-e70e-4bcf-98d1-faab9f99242d)\n",
    "\n",
    "[Montrezl Harrell - Dunk Throwdown Series 1](https://www.nbatopshot.com/listings/p2p/2dbc545a-25a5-4208-8e89-bbb6c3e3a364+f7e408b6-e70e-4bcf-98d1-faab9f99242d)"
   ]
  },
  {
   "cell_type": "code",
   "execution_count": null,
   "metadata": {},
   "outputs": [],
   "source": []
  },
  {
   "cell_type": "code",
   "execution_count": null,
   "metadata": {},
   "outputs": [],
   "source": []
  }
 ],
 "metadata": {
  "kernelspec": {
   "display_name": "Python 3",
   "language": "python",
   "name": "python3"
  },
  "language_info": {
   "codemirror_mode": {
    "name": "ipython",
    "version": 3
   },
   "file_extension": ".py",
   "mimetype": "text/x-python",
   "name": "python",
   "nbconvert_exporter": "python",
   "pygments_lexer": "ipython3",
   "version": "3.8.5"
  }
 },
 "nbformat": 4,
 "nbformat_minor": 4
}
