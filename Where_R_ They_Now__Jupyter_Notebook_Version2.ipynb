{
 "cells": [
  {
   "cell_type": "markdown",
   "metadata": {},
   "source": [
    "## University of Louisville Basketball Players and the NBA  (see where_r_they_now11.py)"
   ]
  },
  {
   "cell_type": "code",
   "execution_count": null,
   "metadata": {},
   "outputs": [],
   "source": [
    "import json\n",
    "import pandas as pd\n",
    "import numpy as np\n",
    "import seaborn as sns\n",
    "import matplotlib.pyplot as plt\n",
    "%matplotlib inline"
   ]
  },
  {
   "cell_type": "markdown",
   "metadata": {},
   "source": [
    "### Function Definitions:"
   ]
  },
  {
   "cell_type": "markdown",
   "metadata": {},
   "source": [
    "#### Function to open JSON file with error checking and load contents into dictionary"
   ]
  },
  {
   "cell_type": "code",
   "execution_count": null,
   "metadata": {},
   "outputs": [],
   "source": [
    "def load_current_players_dict(filename):\n",
    "\t\ttry:\n",
    "\t\t\twith open(filename) as f:\n",
    "\t\t\t\tcurrent_ul_nba_dict = json.load(f)\n",
    "\t\texcept FileNotFoundError:\n",
    "\t\t\tprint(f\"Sorry, the file {filename} does not exist.\")\n",
    "\t\treturn current_ul_nba_dict"
   ]
  },
  {
   "cell_type": "markdown",
   "metadata": {},
   "source": [
    "#### Function to form  a key-tracking list (current_ul_nba_list) from the dictionary (current_ul_nba_dict)"
   ]
  },
  {
   "cell_type": "code",
   "execution_count": null,
   "metadata": {},
   "outputs": [],
   "source": [
    "def load_current_players_list():\n",
    "\t\tcurrent_ul_nba_list = []\n",
    "\t\tfor v,k in current_ul_nba_dict.items():\n",
    "\t\t\tcurrent_ul_nba_list.append(v)\n",
    "\t\treturn current_ul_nba_list"
   ]
  },
  {
   "cell_type": "markdown",
   "metadata": {},
   "source": [
    "#### Function to print indexed players from dictionary (current_ul_nba_dict) for selection by user "
   ]
  },
  {
   "cell_type": "code",
   "execution_count": null,
   "metadata": {},
   "outputs": [],
   "source": [
    "def print_current_players():\n",
    "\t\tindex = 1\n",
    "\t\tprint()\n",
    "\t\tfor v,k in current_ul_nba_dict.items():\n",
    "\t\t\tprint(index,':',v)\n",
    "\t\t\tindex += 1\n"
   ]
  },
  {
   "cell_type": "markdown",
   "metadata": {},
   "source": [
    "#### Function to sort all UL players ever to play in NBA by field goal percentage"
   ]
  },
  {
   "cell_type": "code",
   "execution_count": null,
   "metadata": {},
   "outputs": [],
   "source": [
    "def order_alltime_players_dataframe(filename):\n",
    "\tul_nba_players=pd.read_csv(filename)\n",
    "\tcurrent_ul_nba_fgp_list = []\n",
    "\tFGP=ul_nba_players.sort_values(by=['FG%'], ascending=[False])\n",
    "\tFGP2=FGP.reset_index(drop=True)\n",
    "\tfor i in current_ul_nba_list:\n",
    "\t\tfield_goal_rank = FGP2[FGP2['Player']==i].index[0]\n",
    "\t\tcurrent_ul_nba_fgp_list.append(field_goal_rank + 1)\n",
    "\treturn current_ul_nba_fgp_list"
   ]
  },
  {
   "cell_type": "markdown",
   "metadata": {},
   "source": [
    "#### Open file with error checking and load contents into a dictionary of former University of Louisville players CURRENTLY in the NBA matched with their team and updated from file ul_nba_current.json."
   ]
  },
  {
   "cell_type": "code",
   "execution_count": null,
   "metadata": {},
   "outputs": [],
   "source": [
    "current_ul_nba_dict = load_current_players_dict('ul_nba_current.json')"
   ]
  },
  {
   "cell_type": "markdown",
   "metadata": {},
   "source": [
    " #### Here is a dictionary printout utilizing a key-tracking list "
   ]
  },
  {
   "cell_type": "code",
   "execution_count": null,
   "metadata": {},
   "outputs": [],
   "source": [
    "current_ul_nba_list = load_current_players_list()"
   ]
  },
  {
   "cell_type": "markdown",
   "metadata": {},
   "source": [
    "#### Here are all the UofL players who ever played in the NBA ordered by field goal percentage"
   ]
  },
  {
   "cell_type": "code",
   "execution_count": null,
   "metadata": {},
   "outputs": [],
   "source": [
    "current_ul_nba_fgp_list=order_alltime_players_dataframe('ul_nba_players.csv')"
   ]
  },
  {
   "cell_type": "markdown",
   "metadata": {},
   "source": [
    "#### Present the Welcome Screen to the user"
   ]
  },
  {
   "cell_type": "code",
   "execution_count": null,
   "metadata": {},
   "outputs": [],
   "source": [
    "print('\\n---------------------------------------------------------------------------------------------------------------')\n",
    "print(\"\\nWelcome to 'Where R They Now'\")\n",
    "print(\"---The program to help you find and follow University of Louisville basketball players currently in the NBA\")\n",
    "print(\"\\nThe former UofL players currently playing in the NBA are :\\n\")\n"
   ]
  },
  {
   "cell_type": "markdown",
   "metadata": {},
   "source": [
    "#### Present the menu in a whle loop and respond to user selections "
   ]
  },
  {
   "cell_type": "code",
   "execution_count": null,
   "metadata": {},
   "outputs": [],
   "source": [
    "while True:\n",
    "\tplayer_choice = ''\n",
    "# Prints from dictionary imported from updatable file\n",
    "\tprint_current_players()\n",
    "\ttry:\n",
    "\t\tplayer_choice = input('\\n\\nPlease choose #1-6 to find out more about former UofL players currently in the NBA  or press \"q\" to quit:  ')\n",
    "\t\tif player_choice.lower() == 'q':\n",
    "\t\t\tprint('\\nHave a nice day!')\n",
    "\t\t\tbreak\n",
    "\t\telif int(player_choice) > 0 and (int(player_choice) <= len(current_ul_nba_list)):\n",
    "\t\t\tprint(\"\\n\\n\", current_ul_nba_list[int(player_choice)-1], \"plays for the\", current_ul_nba_dict.get(current_ul_nba_list[int(player_choice) -1], \"\\n\\n\"))\n",
    "\t\t\tlist_item = int(player_choice)-1\n",
    "\t\t\tprint(\"\\n He ranks #\", current_ul_nba_fgp_list[list_item], \" in field goal percentage among all UofL players who ever played in the NBA.\")\n",
    "\t\t\t\n",
    "\t\telif int(player_choice) <= 0:\n",
    "\t\t\tprint(\"\\n\\nUofL's not that bad!\")\n",
    "\t\telif int(player_choice) > len(current_ul_nba_list):\n",
    "\t\t\tprint(\"\\n\\nUofL's good, but they don't have that many players in the NBA!\")\n",
    "\texcept ValueError:\n",
    "\t\tprint(\"\\n\\nPlease enter only one of the following integers\\n\\n\")\n",
    "\n",
    "\t\n"
   ]
  },
  {
   "cell_type": "markdown",
   "metadata": {},
   "source": [
    "# -------------------------------------------------------------------------------------------------------------\n",
    "\n",
    "# While the above code is the same as that found in 'where_r_they_now11.py', the following section provides additional information best presented through the Jupyter Notebook:\n",
    "\n",
    "# -------------------------------------------------------------------------------------------------------------"
   ]
  },
  {
   "cell_type": "markdown",
   "metadata": {},
   "source": [
    "## Load Data\n",
    "# -------------------------------------------------------------------------------------------------------------"
   ]
  },
  {
   "cell_type": "code",
   "execution_count": null,
   "metadata": {},
   "outputs": [],
   "source": [
    "import pandas as pd\n",
    "import numpy as np\n",
    "import seaborn as sns\n",
    "import matplotlib.pyplot as plt\n",
    "%matplotlib inline\n",
    "ul_nba_players = pd.read_csv('ul_nba_players.csv')"
   ]
  },
  {
   "cell_type": "markdown",
   "metadata": {},
   "source": [
    "# -------------------------------------------------------------------------------------------------------------\n",
    "## Assess Data\n",
    "# -------------------------------------------------------------------------------------------------------------"
   ]
  },
  {
   "cell_type": "markdown",
   "metadata": {},
   "source": [
    "### Here are the Column Headings to see all the info available:"
   ]
  },
  {
   "cell_type": "code",
   "execution_count": null,
   "metadata": {},
   "outputs": [],
   "source": [
    "three_pp2.columns"
   ]
  },
  {
   "cell_type": "markdown",
   "metadata": {},
   "source": [
    "### Calculate the number of missing values from chart:"
   ]
  },
  {
   "cell_type": "code",
   "execution_count": null,
   "metadata": {},
   "outputs": [],
   "source": [
    "ul_nba_players.isna().sum().sum()"
   ]
  },
  {
   "cell_type": "markdown",
   "metadata": {},
   "source": [
    "### Calculate the number of missing values per column"
   ]
  },
  {
   "cell_type": "code",
   "execution_count": null,
   "metadata": {},
   "outputs": [],
   "source": [
    "ul_nba_players.isnull().sum()"
   ]
  },
  {
   "cell_type": "markdown",
   "metadata": {},
   "source": [
    "# -------------------------------------------------------------------------------------------------------------\n",
    "## Clean Data\n",
    "# -------------------------------------------------------------------------------------------------------------"
   ]
  },
  {
   "cell_type": "markdown",
   "metadata": {},
   "source": [
    "### Calculate the number of rows that will be deleted if we were to use dropna to remove rows with a missing value"
   ]
  },
  {
   "cell_type": "code",
   "execution_count": null,
   "metadata": {
    "scrolled": true
   },
   "outputs": [],
   "source": [
    "ul_nba_players.shape"
   ]
  },
  {
   "cell_type": "code",
   "execution_count": null,
   "metadata": {},
   "outputs": [],
   "source": [
    "ul_nba_players.dropna().shape"
   ]
  },
  {
   "cell_type": "code",
   "execution_count": null,
   "metadata": {},
   "outputs": [],
   "source": [
    "ul_nba_players.shape[0]-ul_nba_players.dropna().shape[0]"
   ]
  },
  {
   "cell_type": "markdown",
   "metadata": {},
   "source": [
    "### Determine which columns are numeric"
   ]
  },
  {
   "cell_type": "code",
   "execution_count": null,
   "metadata": {},
   "outputs": [],
   "source": [
    "ul_nba_players.dtypes"
   ]
  },
  {
   "cell_type": "markdown",
   "metadata": {},
   "source": [
    "### Fill the missing numeric values with mean values:"
   ]
  },
  {
   "cell_type": "code",
   "execution_count": null,
   "metadata": {},
   "outputs": [],
   "source": [
    "meanUlplayers = ul_nba_players.mean(numeric_only=True)\n",
    "ul_nba_players.fillna(meanUlplayers)"
   ]
  },
  {
   "cell_type": "markdown",
   "metadata": {},
   "source": [
    "# -------------------------------------------------------------------------------------------------------------\n",
    "## Analyze/Present Data\n",
    "# -------------------------------------------------------------------------------------------------------------"
   ]
  },
  {
   "cell_type": "markdown",
   "metadata": {},
   "source": [
    "### Set the index of a dataframe to 'Player' and use idxmax to find the 'leaders' in each category"
   ]
  },
  {
   "cell_type": "code",
   "execution_count": null,
   "metadata": {},
   "outputs": [],
   "source": [
    "player_indexed_data = pd.read_csv('ul_nba_players.csv', index_col = 'Player')\n",
    "player_indexed_data.select_dtypes('number').idxmax()"
   ]
  },
  {
   "cell_type": "markdown",
   "metadata": {},
   "source": [
    "\n",
    "### Order all UL players who ever played in NBA by 3 point percentage:"
   ]
  },
  {
   "cell_type": "code",
   "execution_count": null,
   "metadata": {},
   "outputs": [],
   "source": [
    "three_pp = ul_nba_players.sort_values(by=['3P%'], ascending = [False])\n",
    "three_pp2 = three_pp.reset_index(drop=True)\n",
    "three_pp2.head(40)"
   ]
  },
  {
   "cell_type": "markdown",
   "metadata": {},
   "source": [
    "### Display life-time UL players ordered by 3 point percentage:"
   ]
  },
  {
   "cell_type": "code",
   "execution_count": null,
   "metadata": {},
   "outputs": [],
   "source": [
    "cols = ['Player', '3P%']\n",
    "three_pp2[cols].head(41)"
   ]
  },
  {
   "cell_type": "markdown",
   "metadata": {},
   "source": [
    "### One can use .loc[] to select only current players' 3 point percentages:"
   ]
  },
  {
   "cell_type": "code",
   "execution_count": null,
   "metadata": {},
   "outputs": [],
   "source": [
    "current_ul_nba_players = pd.read_csv('ul_nba_players.csv', index_col = 'Player')\n",
    "current_ul_nba_players.index\n",
    "rows = ['Jordan Nwora','Terry Rozier','Damion Lee','Deng Adel','Montrezl Harrell']\n",
    "cols = ['3P%']\n",
    "current_ul_nba_players.loc[rows,cols]\n"
   ]
  },
  {
   "cell_type": "markdown",
   "metadata": {},
   "source": [
    "### Order and display UL players who ever played in NBA by field goal percentage:"
   ]
  },
  {
   "cell_type": "code",
   "execution_count": null,
   "metadata": {},
   "outputs": [],
   "source": [
    "FGP = ul_nba_players.sort_values(by=['FG%'], ascending = [False])"
   ]
  },
  {
   "cell_type": "code",
   "execution_count": null,
   "metadata": {},
   "outputs": [],
   "source": [
    "FGP2 = FGP.reset_index(drop=True)"
   ]
  },
  {
   "cell_type": "code",
   "execution_count": null,
   "metadata": {},
   "outputs": [],
   "source": [
    "cols = ['Player', 'FG%']\n",
    "FGP2[cols].head(41)"
   ]
  },
  {
   "cell_type": "markdown",
   "metadata": {},
   "source": [
    "### Order all UL players who ever played in NBA by free throw percentage:"
   ]
  },
  {
   "cell_type": "code",
   "execution_count": null,
   "metadata": {},
   "outputs": [],
   "source": [
    "FTP = ul_nba_players.sort_values(by=['FT%'], ascending=[False])"
   ]
  },
  {
   "cell_type": "code",
   "execution_count": null,
   "metadata": {},
   "outputs": [],
   "source": [
    "FTP2 = FTP.reset_index(drop=True)"
   ]
  },
  {
   "cell_type": "code",
   "execution_count": null,
   "metadata": {},
   "outputs": [],
   "source": [
    "FTP2.head(50)\n",
    "cols = ['Player', 'FT%']\n",
    "FTP2[cols].head(41)"
   ]
  },
  {
   "cell_type": "markdown",
   "metadata": {},
   "source": [
    "### Descriptive Statistics of Field Goals"
   ]
  },
  {
   "cell_type": "code",
   "execution_count": null,
   "metadata": {},
   "outputs": [],
   "source": [
    "FTP2['FG'].describe()"
   ]
  },
  {
   "cell_type": "markdown",
   "metadata": {},
   "source": [
    "### Histogram of Field Goals"
   ]
  },
  {
   "cell_type": "code",
   "execution_count": null,
   "metadata": {},
   "outputs": [],
   "source": [
    "FTP2['FG'].hist(edgecolor='black', bins =5)\n",
    "plt.xlabel('Field Goals', fontsize=15)\n",
    "plt.ylabel('# Players', fontsize=15)\n",
    "plt.title('Career Field Goals', fontsize=20)"
   ]
  },
  {
   "cell_type": "markdown",
   "metadata": {},
   "source": [
    "### Descriptive Statistics of Points"
   ]
  },
  {
   "cell_type": "code",
   "execution_count": null,
   "metadata": {},
   "outputs": [],
   "source": [
    "FTP2['PTS'].describe()"
   ]
  },
  {
   "cell_type": "markdown",
   "metadata": {},
   "source": [
    "### Histogram of Points"
   ]
  },
  {
   "cell_type": "code",
   "execution_count": null,
   "metadata": {},
   "outputs": [],
   "source": [
    "FTP2['PTS'].hist(edgecolor='black', bins =5)\n",
    "plt.xlabel('Points', fontsize=15)\n",
    "plt.ylabel('# Players', fontsize=15)\n",
    "plt.title('Career Points', fontsize=20)"
   ]
  },
  {
   "cell_type": "markdown",
   "metadata": {},
   "source": [
    "# -------------------------------------------------------------------------------------------------------------\n",
    "\n",
    "# Now lets see how to check on  UL players  in the virtual NBA world of Top Shots using Jordan Nwora as an example:`\n",
    "\n",
    "# -------------------------------------------------------------------------------------------------------------"
   ]
  },
  {
   "cell_type": "markdown",
   "metadata": {},
   "source": [
    "## Jordan Nwora"
   ]
  },
  {
   "cell_type": "markdown",
   "metadata": {},
   "source": [
    "[Click to see Jordan Nwora's Top Shot Moment](https://www.nbatopshot.com/listings/p2p/208ae30a-a4fe-42d4-9e51-e6fd1ad2a7a9+410fa4dd-cfc3-4bba-b0e0-4b623e9d8c41)"
   ]
  },
  {
   "cell_type": "markdown",
   "metadata": {},
   "source": [
    "### Jordan Nwora Crypto Slam info:"
   ]
  },
  {
   "cell_type": "code",
   "execution_count": null,
   "metadata": {},
   "outputs": [],
   "source": [
    "from IPython.display import IFrame\n",
    "url = 'https://cryptoslam.io/nba-top-shot/mint/3291416'\n",
    "IFrame(url,900,400)"
   ]
  },
  {
   "cell_type": "markdown",
   "metadata": {},
   "source": [
    "### Jordan Nwora NBA Top Shot moment asking prices:"
   ]
  },
  {
   "cell_type": "code",
   "execution_count": null,
   "metadata": {},
   "outputs": [],
   "source": [
    "nwora = pd.read_excel('NworaNone.xlsx')"
   ]
  },
  {
   "cell_type": "code",
   "execution_count": null,
   "metadata": {},
   "outputs": [],
   "source": [
    "nwora"
   ]
  },
  {
   "cell_type": "markdown",
   "metadata": {},
   "source": [
    "### Check for NA values by comparing count (non-na prices) with size (all prices) and using isna():"
   ]
  },
  {
   "cell_type": "code",
   "execution_count": null,
   "metadata": {},
   "outputs": [],
   "source": [
    "nwora.size == nwora.count()"
   ]
  },
  {
   "cell_type": "code",
   "execution_count": null,
   "metadata": {},
   "outputs": [],
   "source": [
    "nwora.isna().sum()"
   ]
  },
  {
   "cell_type": "markdown",
   "metadata": {},
   "source": [
    "### Jordan Nwora NBA Top Shot moment medain and mean prices:"
   ]
  },
  {
   "cell_type": "code",
   "execution_count": null,
   "metadata": {},
   "outputs": [],
   "source": [
    "nwora.median()"
   ]
  },
  {
   "cell_type": "code",
   "execution_count": null,
   "metadata": {},
   "outputs": [],
   "source": [
    "nwora.mean()"
   ]
  },
  {
   "cell_type": "markdown",
   "metadata": {},
   "source": [
    "### Jordan Nwora NBA Top Shot moment maximum and minimum prices:"
   ]
  },
  {
   "cell_type": "code",
   "execution_count": null,
   "metadata": {},
   "outputs": [],
   "source": [
    "nwora.max()"
   ]
  },
  {
   "cell_type": "code",
   "execution_count": null,
   "metadata": {},
   "outputs": [],
   "source": [
    "nwora.min()"
   ]
  },
  {
   "cell_type": "code",
   "execution_count": null,
   "metadata": {},
   "outputs": [],
   "source": [
    "nwora.agg(['min', 'max'])"
   ]
  },
  {
   "cell_type": "markdown",
   "metadata": {},
   "source": [
    "### Jordan Nwora NBA Top Shot moment price standard deviation:"
   ]
  },
  {
   "cell_type": "code",
   "execution_count": null,
   "metadata": {},
   "outputs": [],
   "source": [
    "nwora.std()"
   ]
  },
  {
   "cell_type": "markdown",
   "metadata": {},
   "source": [
    "### Jordan Nwora NBA Top Shot moment price count:"
   ]
  },
  {
   "cell_type": "code",
   "execution_count": null,
   "metadata": {},
   "outputs": [],
   "source": [
    "nwora.count()"
   ]
  },
  {
   "cell_type": "markdown",
   "metadata": {},
   "source": [
    "### Jordan Nwora NBA Top Shot moment quantile:"
   ]
  },
  {
   "cell_type": "code",
   "execution_count": null,
   "metadata": {},
   "outputs": [],
   "source": [
    "nwora.quantile()"
   ]
  },
  {
   "cell_type": "markdown",
   "metadata": {},
   "source": [
    "### Find the number of moment asking prices above 1000 dollars:"
   ]
  },
  {
   "cell_type": "code",
   "execution_count": null,
   "metadata": {},
   "outputs": [],
   "source": [
    "(nwora > 1000).sum()"
   ]
  },
  {
   "cell_type": "markdown",
   "metadata": {},
   "source": [
    "### Find the number of moment asking prices between 500 and 1000 dollars (note that between() can only be used on Series):"
   ]
  },
  {
   "cell_type": "code",
   "execution_count": null,
   "metadata": {},
   "outputs": [],
   "source": [
    "nwora['Asking'].between(500,1000).sum()"
   ]
  },
  {
   "cell_type": "markdown",
   "metadata": {},
   "source": [
    "### Find the number of moment asking prices below 500 dollars:"
   ]
  },
  {
   "cell_type": "code",
   "execution_count": null,
   "metadata": {},
   "outputs": [],
   "source": [
    "(nwora <500).sum()"
   ]
  },
  {
   "cell_type": "markdown",
   "metadata": {},
   "source": [
    "### Display asking price by 10 percentiles:"
   ]
  },
  {
   "cell_type": "code",
   "execution_count": null,
   "metadata": {},
   "outputs": [],
   "source": [
    "nwora.quantile(q=[.1,.2,.3,.4,.5,.6,.7,.8,.9,.99])"
   ]
  },
  {
   "cell_type": "markdown",
   "metadata": {},
   "source": [
    "## Jordan Nwora histogram of his NBA Top Shot asking prices:"
   ]
  },
  {
   "cell_type": "code",
   "execution_count": null,
   "metadata": {},
   "outputs": [],
   "source": [
    "nwora['Asking'].hist(edgecolor='black', bins =5)\n",
    "plt.xlabel('Price(Dollars)', fontsize=15)\n",
    "plt.ylabel('Frequency', fontsize=15)\n",
    "plt.title('Asking Prices', fontsize=20)"
   ]
  },
  {
   "cell_type": "markdown",
   "metadata": {},
   "source": [
    "## Jordan Nwora Seaborn histogram :"
   ]
  },
  {
   "cell_type": "code",
   "execution_count": null,
   "metadata": {},
   "outputs": [],
   "source": [
    "sns.displot(nwora['Asking'])"
   ]
  },
  {
   "cell_type": "markdown",
   "metadata": {},
   "source": [
    "## Jordan Nwora's NBA Top Shot  asking prices by Serial Number scatterplot:"
   ]
  },
  {
   "cell_type": "code",
   "execution_count": null,
   "metadata": {},
   "outputs": [],
   "source": [
    "nworaminus2=pd.read_excel('NworaNewMinus.xlsx')\n",
    "nworaminus2.plot.scatter(x='Serial #', y = 'Asking Price')"
   ]
  },
  {
   "cell_type": "markdown",
   "metadata": {},
   "source": [
    "## Jordan Nwora's NBA Top Shot  asking prices by Serial Number line plot:"
   ]
  },
  {
   "cell_type": "code",
   "execution_count": null,
   "metadata": {},
   "outputs": [],
   "source": [
    "nworaminus=pd.read_excel('NworaNewMinus.xlsx', index_col='Serial #')"
   ]
  },
  {
   "cell_type": "code",
   "execution_count": null,
   "metadata": {},
   "outputs": [],
   "source": [
    "nworaminus.plot(kind='line', title = 'Line Plot')"
   ]
  },
  {
   "cell_type": "code",
   "execution_count": null,
   "metadata": {},
   "outputs": [],
   "source": []
  },
  {
   "cell_type": "code",
   "execution_count": null,
   "metadata": {},
   "outputs": [],
   "source": []
  }
 ],
 "metadata": {
  "kernelspec": {
   "display_name": "Python 3",
   "language": "python",
   "name": "python3"
  },
  "language_info": {
   "codemirror_mode": {
    "name": "ipython",
    "version": 3
   },
   "file_extension": ".py",
   "mimetype": "text/x-python",
   "name": "python",
   "nbconvert_exporter": "python",
   "pygments_lexer": "ipython3",
   "version": "3.8.5"
  }
 },
 "nbformat": 4,
 "nbformat_minor": 4
}
